{
 "cells": [
  {
   "cell_type": "markdown",
   "metadata": {},
   "source": [
    "# Capstone Project: Mental Health in the Tech Industry\n"
   ]
  },
  {
   "cell_type": "markdown",
   "metadata": {},
   "source": [
    "## Problem Statement\n",
    "\n",
    "Mental health is a critical issue in the tech industry, where stress, high workloads, and remote work conditions can significantly impact employees.\n",
    "This study examines the state of mental health among tech professionals, focusing on how various factors (remote work, employer support, fear of consequences) influence employees' well-being.\n",
    "\n",
    "**Key Questions for Analysis:**\n",
    "\n",
    "1. How common is mental health treatment in tech?\n",
    "2. Are age or family history influencing treatment rates?\n",
    "3. Do employees fear consequences from employers?\n",
    "4. Does working remotely or independently impact mental well-being?\n",
    "5. How do companies support their employees?\n"
   ]
  },
  {
   "cell_type": "markdown",
   "metadata": {},
   "source": [
    "## Import data\n",
    "\n",
    "Importing datasets from KaggleHub using the kagglehub Python package.\n"
   ]
  },
  {
   "cell_type": "code",
   "execution_count": 839,
   "metadata": {},
   "outputs": [
    {
     "name": "stdout",
     "output_type": "stream",
     "text": [
      "Path to dataset files: /Users/elizabethsheremet/.cache/kagglehub/datasets/osmi/mental-health-in-tech-survey/versions/3\n"
     ]
    }
   ],
   "source": [
    "import kagglehub\n",
    "\n",
    "path = kagglehub.dataset_download(\"osmi/mental-health-in-tech-survey\")\n",
    "print(\"Path to dataset files:\", path)"
   ]
  },
  {
   "cell_type": "markdown",
   "metadata": {},
   "source": [
    "## Read data\n",
    "\n",
    "Reading the data and assigning it to a variable for further manipulation.\n"
   ]
  },
  {
   "cell_type": "code",
   "execution_count": 840,
   "metadata": {},
   "outputs": [
    {
     "name": "stdout",
     "output_type": "stream",
     "text": [
      "             Timestamp  Age  Gender         Country state self_employed  \\\n",
      "0  2014-08-27 11:29:31   37  Female   United States    IL           NaN   \n",
      "1  2014-08-27 11:29:37   44       M   United States    IN           NaN   \n",
      "2  2014-08-27 11:29:44   32    Male          Canada   NaN           NaN   \n",
      "3  2014-08-27 11:29:46   31    Male  United Kingdom   NaN           NaN   \n",
      "4  2014-08-27 11:30:22   31    Male   United States    TX           NaN   \n",
      "\n",
      "  family_history treatment work_interfere    no_employees  ...  \\\n",
      "0             No       Yes          Often            6-25  ...   \n",
      "1             No        No         Rarely  More than 1000  ...   \n",
      "2             No        No         Rarely            6-25  ...   \n",
      "3            Yes       Yes          Often          26-100  ...   \n",
      "4             No        No          Never         100-500  ...   \n",
      "\n",
      "                leave mental_health_consequence phys_health_consequence  \\\n",
      "0       Somewhat easy                        No                      No   \n",
      "1          Don't know                     Maybe                      No   \n",
      "2  Somewhat difficult                        No                      No   \n",
      "3  Somewhat difficult                       Yes                     Yes   \n",
      "4          Don't know                        No                      No   \n",
      "\n",
      "      coworkers supervisor mental_health_interview phys_health_interview  \\\n",
      "0  Some of them        Yes                      No                 Maybe   \n",
      "1            No         No                      No                    No   \n",
      "2           Yes        Yes                     Yes                   Yes   \n",
      "3  Some of them         No                   Maybe                 Maybe   \n",
      "4  Some of them        Yes                     Yes                   Yes   \n",
      "\n",
      "  mental_vs_physical obs_consequence comments  \n",
      "0                Yes              No      NaN  \n",
      "1         Don't know              No      NaN  \n",
      "2                 No              No      NaN  \n",
      "3                 No             Yes      NaN  \n",
      "4         Don't know              No      NaN  \n",
      "\n",
      "[5 rows x 27 columns]\n"
     ]
    }
   ],
   "source": [
    "import pandas as pd\n",
    "import os\n",
    "\n",
    "dataset_file = os.path.join(path, \"survey.csv\")\n",
    "df = pd.read_csv(dataset_file)\n",
    "print(df.head())"
   ]
  },
  {
   "cell_type": "markdown",
   "metadata": {},
   "source": [
    "## Clean data\n",
    "\n",
    "**Step 1: Dropping unnecessary columns**\n",
    "\n",
    "NO need columns such as Timestamp, state and comments.\n",
    "\n",
    "**Reasons:**\n",
    "\n",
    "- Timestamp doesn't impact on the result.\n",
    "- State column has a lot of passes (is not a critical information for analysis).\n",
    "- Comments column is an optional field and has no matter for analysis.\n"
   ]
  },
  {
   "cell_type": "code",
   "execution_count": 841,
   "metadata": {},
   "outputs": [
    {
     "name": "stdout",
     "output_type": "stream",
     "text": [
      "   Age  Gender         Country self_employed family_history treatment  \\\n",
      "0   37  Female   United States           NaN             No       Yes   \n",
      "1   44       M   United States           NaN             No        No   \n",
      "2   32    Male          Canada           NaN             No        No   \n",
      "3   31    Male  United Kingdom           NaN            Yes       Yes   \n",
      "4   31    Male   United States           NaN             No        No   \n",
      "\n",
      "  work_interfere    no_employees remote_work tech_company  ...   anonymity  \\\n",
      "0          Often            6-25          No          Yes  ...         Yes   \n",
      "1         Rarely  More than 1000          No           No  ...  Don't know   \n",
      "2         Rarely            6-25          No          Yes  ...  Don't know   \n",
      "3          Often          26-100          No          Yes  ...          No   \n",
      "4          Never         100-500         Yes          Yes  ...  Don't know   \n",
      "\n",
      "                leave mental_health_consequence phys_health_consequence  \\\n",
      "0       Somewhat easy                        No                      No   \n",
      "1          Don't know                     Maybe                      No   \n",
      "2  Somewhat difficult                        No                      No   \n",
      "3  Somewhat difficult                       Yes                     Yes   \n",
      "4          Don't know                        No                      No   \n",
      "\n",
      "      coworkers supervisor mental_health_interview phys_health_interview  \\\n",
      "0  Some of them        Yes                      No                 Maybe   \n",
      "1            No         No                      No                    No   \n",
      "2           Yes        Yes                     Yes                   Yes   \n",
      "3  Some of them         No                   Maybe                 Maybe   \n",
      "4  Some of them        Yes                     Yes                   Yes   \n",
      "\n",
      "  mental_vs_physical obs_consequence  \n",
      "0                Yes              No  \n",
      "1         Don't know              No  \n",
      "2                 No              No  \n",
      "3                 No             Yes  \n",
      "4         Don't know              No  \n",
      "\n",
      "[5 rows x 24 columns]\n"
     ]
    }
   ],
   "source": [
    "cleaned_df = df.drop([\"Timestamp\", \"comments\", \"state\"], axis=1)\n",
    "cleaned_df = pd.DataFrame(cleaned_df)\n",
    "print(cleaned_df.head())"
   ]
  },
  {
   "cell_type": "markdown",
   "metadata": {},
   "source": [
    "**Step 2: Processing Key Values**\n",
    "\n",
    "Some rows need to be normalized snd processed.\n",
    "\n",
    "**Categorical Data**\n",
    "| Column | Issue | Solution|\n",
    "|----------|---------|----------|\n",
    "| \"Gender\" | Various: \"m, \"F\", \"Male\", \"female\", etc. | Bring to standart: \"Male\", \"Female, \"Other\". |\n",
    "| \"self_employed\" | Lots of passes | Filled with \"No\" and vring to binary. |\n",
    "| \"tech_company\" | Includes \"No\" while focus on TECH industry | Remove rows where valus is \"No\" |\n"
   ]
  },
  {
   "cell_type": "code",
   "execution_count": 842,
   "metadata": {},
   "outputs": [],
   "source": [
    "# bring all values in \"Gender\" column to lower case\n",
    "cleaned_df[\"Gender\"] = cleaned_df[\"Gender\"].str.lower()\n",
    "# all unique values for \"Gender\" column\n",
    "# print(cleaned_df[\"Gender\"].unique())\n",
    "\n",
    "# function to bring existed values to standart\n",
    "def clean_gender(gender):\n",
    "    if gender in [\"male\", \"m\", \"man\", \"mail\", \"male-ish\", \"maile\", \"mal\"]:\n",
    "        return \"Male\"\n",
    "    elif gender in [\"female\", \"f\", \"woman\", \"fm\", \"femake\"]:\n",
    "        return \"Female\"\n",
    "    else:\n",
    "        return \"Other\"\n",
    "\n",
    "# Apply function to \"Gender\" column\n",
    "cleaned_df[\"Gender\"] = cleaned_df[\"Gender\"].apply(clean_gender)\n",
    "\n",
    "# Filled \"No\" instead of NaN values in \"self_employed\" column.\n",
    "cleaned_df[\"self_employed\"] = cleaned_df[\"self_employed\"].fillna(\"No\")\n",
    "\n",
    "# Remove rows with non-tech company\n",
    "cleaned_df = cleaned_df[cleaned_df[\"tech_company\"] == \"Yes\"]\n",
    "# print(cleaned_df)\n",
    "\n"
   ]
  },
  {
   "cell_type": "markdown",
   "metadata": {},
   "source": [
    "**Numerical Data**\n",
    "| Column | Issue | Solution|\n",
    "|----------|---------|----------|\n",
    "| \"Age\" | Values might be wrong(like <18 or >70) | Delete invalid values. |\n",
    "| \"no_employees\" | Lots of different values | Group them into: \"Large\", \"Medium\", \"Small\" |\n"
   ]
  },
  {
   "cell_type": "code",
   "execution_count": 843,
   "metadata": {},
   "outputs": [
    {
     "name": "stdout",
     "output_type": "stream",
     "text": [
      "<class 'pandas.core.frame.DataFrame'>\n",
      "62\n",
      "['6-25' '26-100' '100-500' '1-5' '500-1000' 'More than 1000']\n"
     ]
    }
   ],
   "source": [
    "# Check \"Age\" column to valid values\n",
    "cleaned_df = cleaned_df[(cleaned_df[\"Age\"] >= 18) & (cleaned_df[\"Age\"] <= 70)]\n",
    "print(type(cleaned_df))\n",
    "print(cleaned_df[\"Age\"].max())\n",
    "# Group \"no-employees\" values\n",
    "print(cleaned_df[\"no_employees\"].unique())\n",
    "employee_groups = {\n",
    "    \"1-5\": \"Small\",\n",
    "    \"6-25\": \"Small\",\n",
    "    \"26-100\": \"Medium\",\n",
    "    \"100-500\": \"Medium\",\n",
    "    \"500-1000\": \"Large\",\n",
    "    \"More than 1000\": \"Large\",\n",
    "}\n",
    "# Create new column with the result\n",
    "cleaned_df[\"company_size\"] = cleaned_df[\"no_employees\"].map(employee_groups)\n",
    "# print(cleaned_df.head())"
   ]
  },
  {
   "cell_type": "markdown",
   "metadata": {},
   "source": [
    "## Exploratory Data Analysis\n",
    "\n",
    "### Importing libraries\n"
   ]
  },
  {
   "cell_type": "code",
   "execution_count": 844,
   "metadata": {},
   "outputs": [
    {
     "data": {
      "text/html": [
       "    <style>\n",
       "        .bk-notebook-logo {\n",
       "            display: block;\n",
       "            width: 20px;\n",
       "            height: 20px;\n",
       "            background-image: url(data:image/png;base64,iVBORw0KGgoAAAANSUhEUgAAABQAAAAUCAYAAACNiR0NAAAABHNCSVQICAgIfAhkiAAAAAlwSFlzAAALEgAACxIB0t1+/AAAABx0RVh0U29mdHdhcmUAQWRvYmUgRmlyZXdvcmtzIENTNui8sowAAAOkSURBVDiNjZRtaJVlGMd/1/08zzln5zjP1LWcU9N0NkN8m2CYjpgQYQXqSs0I84OLIC0hkEKoPtiH3gmKoiJDU7QpLgoLjLIQCpEsNJ1vqUOdO7ppbuec5+V+rj4ctwzd8IIbbi6u+8f1539dt3A78eXC7QizUF7gyV1fD1Yqg4JWz84yffhm0qkFqBogB9rM8tZdtwVsPUhWhGcFJngGeWrPzHm5oaMmkfEg1usvLFyc8jLRqDOMru7AyC8saQr7GG7f5fvDeH7Ej8CM66nIF+8yngt6HWaKh7k49Soy9nXurCi1o3qUbS3zWfrYeQDTB/Qj6kX6Ybhw4B+bOYoLKCC9H3Nu/leUTZ1JdRWkkn2ldcCamzrcf47KKXdAJllSlxAOkRgyHsGC/zRday5Qld9DyoM4/q/rUoy/CXh3jzOu3bHUVZeU+DEn8FInkPBFlu3+nW3Nw0mk6vCDiWg8CeJaxEwuHS3+z5RgY+YBR6V1Z1nxSOfoaPa4LASWxxdNp+VWTk7+4vzaou8v8PN+xo+KY2xsw6une2frhw05CTYOmQvsEhjhWjn0bmXPjpE1+kplmmkP3suftwTubK9Vq22qKmrBhpY4jvd5afdRA3wGjFAgcnTK2s4hY0/GPNIb0nErGMCRxWOOX64Z8RAC4oCXdklmEvcL8o0BfkNK4lUg9HTl+oPlQxdNo3Mg4Nv175e/1LDGzZen30MEjRUtmXSfiTVu1kK8W4txyV6BMKlbgk3lMwYCiusNy9fVfvvwMxv8Ynl6vxoByANLTWplvuj/nF9m2+PDtt1eiHPBr1oIfhCChQMBw6Aw0UulqTKZdfVvfG7VcfIqLG9bcldL/+pdWTLxLUy8Qq38heUIjh4XlzZxzQm19lLFlr8vdQ97rjZVOLf8nclzckbcD4wxXMidpX30sFd37Fv/GtwwhzhxGVAprjbg0gCAEeIgwCZyTV2Z1REEW8O4py0wsjeloKoMr6iCY6dP92H6Vw/oTyICIthibxjm/DfN9lVz8IqtqKYLUXfoKVMVQVVJOElGjrnnUt9T9wbgp8AyYKaGlqingHZU/uG2NTZSVqwHQTWkx9hxjkpWDaCg6Ckj5qebgBVbT3V3NNXMSiWSDdGV3hrtzla7J+duwPOToIg42ChPQOQjspnSlp1V+Gjdged7+8UN5CRAV7a5EdFNwCjEaBR27b3W890TE7g24NAP/mMDXRWrGoFPQI9ls/MWO2dWFAar/xcOIImbbpA3zgAAAABJRU5ErkJggg==);\n",
       "        }\n",
       "    </style>\n",
       "    <div>\n",
       "        <a href=\"https://bokeh.org\" target=\"_blank\" class=\"bk-notebook-logo\"></a>\n",
       "        <span id=\"d1e35599-3423-461c-a576-31ec60ba4c0c\">Loading BokehJS ...</span>\n",
       "    </div>\n"
      ]
     },
     "metadata": {},
     "output_type": "display_data"
    },
    {
     "data": {
      "application/javascript": "'use strict';\n(function(root) {\n  function now() {\n    return new Date();\n  }\n\n  const force = true;\n\n  if (typeof root._bokeh_onload_callbacks === \"undefined\" || force === true) {\n    root._bokeh_onload_callbacks = [];\n    root._bokeh_is_loading = undefined;\n  }\n\nconst JS_MIME_TYPE = 'application/javascript';\n  const HTML_MIME_TYPE = 'text/html';\n  const EXEC_MIME_TYPE = 'application/vnd.bokehjs_exec.v0+json';\n  const CLASS_NAME = 'output_bokeh rendered_html';\n\n  /**\n   * Render data to the DOM node\n   */\n  function render(props, node) {\n    const script = document.createElement(\"script\");\n    node.appendChild(script);\n  }\n\n  /**\n   * Handle when an output is cleared or removed\n   */\n  function handleClearOutput(event, handle) {\n    function drop(id) {\n      const view = Bokeh.index.get_by_id(id)\n      if (view != null) {\n        view.model.document.clear()\n        Bokeh.index.delete(view)\n      }\n    }\n\n    const cell = handle.cell;\n\n    const id = cell.output_area._bokeh_element_id;\n    const server_id = cell.output_area._bokeh_server_id;\n\n    // Clean up Bokeh references\n    if (id != null) {\n      drop(id)\n    }\n\n    if (server_id !== undefined) {\n      // Clean up Bokeh references\n      const cmd_clean = \"from bokeh.io.state import curstate; print(curstate().uuid_to_server['\" + server_id + \"'].get_sessions()[0].document.roots[0]._id)\";\n      cell.notebook.kernel.execute(cmd_clean, {\n        iopub: {\n          output: function(msg) {\n            const id = msg.content.text.trim()\n            drop(id)\n          }\n        }\n      });\n      // Destroy server and session\n      const cmd_destroy = \"import bokeh.io.notebook as ion; ion.destroy_server('\" + server_id + \"')\";\n      cell.notebook.kernel.execute(cmd_destroy);\n    }\n  }\n\n  /**\n   * Handle when a new output is added\n   */\n  function handleAddOutput(event, handle) {\n    const output_area = handle.output_area;\n    const output = handle.output;\n\n    // limit handleAddOutput to display_data with EXEC_MIME_TYPE content only\n    if ((output.output_type != \"display_data\") || (!Object.prototype.hasOwnProperty.call(output.data, EXEC_MIME_TYPE))) {\n      return\n    }\n\n    const toinsert = output_area.element.find(\".\" + CLASS_NAME.split(' ')[0]);\n\n    if (output.metadata[EXEC_MIME_TYPE][\"id\"] !== undefined) {\n      toinsert[toinsert.length - 1].firstChild.textContent = output.data[JS_MIME_TYPE];\n      // store reference to embed id on output_area\n      output_area._bokeh_element_id = output.metadata[EXEC_MIME_TYPE][\"id\"];\n    }\n    if (output.metadata[EXEC_MIME_TYPE][\"server_id\"] !== undefined) {\n      const bk_div = document.createElement(\"div\");\n      bk_div.innerHTML = output.data[HTML_MIME_TYPE];\n      const script_attrs = bk_div.children[0].attributes;\n      for (let i = 0; i < script_attrs.length; i++) {\n        toinsert[toinsert.length - 1].firstChild.setAttribute(script_attrs[i].name, script_attrs[i].value);\n        toinsert[toinsert.length - 1].firstChild.textContent = bk_div.children[0].textContent\n      }\n      // store reference to server id on output_area\n      output_area._bokeh_server_id = output.metadata[EXEC_MIME_TYPE][\"server_id\"];\n    }\n  }\n\n  function register_renderer(events, OutputArea) {\n\n    function append_mime(data, metadata, element) {\n      // create a DOM node to render to\n      const toinsert = this.create_output_subarea(\n        metadata,\n        CLASS_NAME,\n        EXEC_MIME_TYPE\n      );\n      this.keyboard_manager.register_events(toinsert);\n      // Render to node\n      const props = {data: data, metadata: metadata[EXEC_MIME_TYPE]};\n      render(props, toinsert[toinsert.length - 1]);\n      element.append(toinsert);\n      return toinsert\n    }\n\n    /* Handle when an output is cleared or removed */\n    events.on('clear_output.CodeCell', handleClearOutput);\n    events.on('delete.Cell', handleClearOutput);\n\n    /* Handle when a new output is added */\n    events.on('output_added.OutputArea', handleAddOutput);\n\n    /**\n     * Register the mime type and append_mime function with output_area\n     */\n    OutputArea.prototype.register_mime_type(EXEC_MIME_TYPE, append_mime, {\n      /* Is output safe? */\n      safe: true,\n      /* Index of renderer in `output_area.display_order` */\n      index: 0\n    });\n  }\n\n  // register the mime type if in Jupyter Notebook environment and previously unregistered\n  if (root.Jupyter !== undefined) {\n    const events = require('base/js/events');\n    const OutputArea = require('notebook/js/outputarea').OutputArea;\n\n    if (OutputArea.prototype.mime_types().indexOf(EXEC_MIME_TYPE) == -1) {\n      register_renderer(events, OutputArea);\n    }\n  }\n  if (typeof (root._bokeh_timeout) === \"undefined\" || force === true) {\n    root._bokeh_timeout = Date.now() + 5000;\n    root._bokeh_failed_load = false;\n  }\n\n  const NB_LOAD_WARNING = {'data': {'text/html':\n     \"<div style='background-color: #fdd'>\\n\"+\n     \"<p>\\n\"+\n     \"BokehJS does not appear to have successfully loaded. If loading BokehJS from CDN, this \\n\"+\n     \"may be due to a slow or bad network connection. Possible fixes:\\n\"+\n     \"</p>\\n\"+\n     \"<ul>\\n\"+\n     \"<li>re-rerun `output_notebook()` to attempt to load from CDN again, or</li>\\n\"+\n     \"<li>use INLINE resources instead, as so:</li>\\n\"+\n     \"</ul>\\n\"+\n     \"<code>\\n\"+\n     \"from bokeh.resources import INLINE\\n\"+\n     \"output_notebook(resources=INLINE)\\n\"+\n     \"</code>\\n\"+\n     \"</div>\"}};\n\n  function display_loaded(error = null) {\n    const el = document.getElementById(\"d1e35599-3423-461c-a576-31ec60ba4c0c\");\n    if (el != null) {\n      const html = (() => {\n        if (typeof root.Bokeh === \"undefined\") {\n          if (error == null) {\n            return \"BokehJS is loading ...\";\n          } else {\n            return \"BokehJS failed to load.\";\n          }\n        } else {\n          const prefix = `BokehJS ${root.Bokeh.version}`;\n          if (error == null) {\n            return `${prefix} successfully loaded.`;\n          } else {\n            return `${prefix} <b>encountered errors</b> while loading and may not function as expected.`;\n          }\n        }\n      })();\n      el.innerHTML = html;\n\n      if (error != null) {\n        const wrapper = document.createElement(\"div\");\n        wrapper.style.overflow = \"auto\";\n        wrapper.style.height = \"5em\";\n        wrapper.style.resize = \"vertical\";\n        const content = document.createElement(\"div\");\n        content.style.fontFamily = \"monospace\";\n        content.style.whiteSpace = \"pre-wrap\";\n        content.style.backgroundColor = \"rgb(255, 221, 221)\";\n        content.textContent = error.stack ?? error.toString();\n        wrapper.append(content);\n        el.append(wrapper);\n      }\n    } else if (Date.now() < root._bokeh_timeout) {\n      setTimeout(() => display_loaded(error), 100);\n    }\n  }\n\n  function run_callbacks() {\n    try {\n      root._bokeh_onload_callbacks.forEach(function(callback) {\n        if (callback != null)\n          callback();\n      });\n    } finally {\n      delete root._bokeh_onload_callbacks\n    }\n    console.debug(\"Bokeh: all callbacks have finished\");\n  }\n\n  function load_libs(css_urls, js_urls, callback) {\n    if (css_urls == null) css_urls = [];\n    if (js_urls == null) js_urls = [];\n\n    root._bokeh_onload_callbacks.push(callback);\n    if (root._bokeh_is_loading > 0) {\n      console.debug(\"Bokeh: BokehJS is being loaded, scheduling callback at\", now());\n      return null;\n    }\n    if (js_urls == null || js_urls.length === 0) {\n      run_callbacks();\n      return null;\n    }\n    console.debug(\"Bokeh: BokehJS not loaded, scheduling load and callback at\", now());\n    root._bokeh_is_loading = css_urls.length + js_urls.length;\n\n    function on_load() {\n      root._bokeh_is_loading--;\n      if (root._bokeh_is_loading === 0) {\n        console.debug(\"Bokeh: all BokehJS libraries/stylesheets loaded\");\n        run_callbacks()\n      }\n    }\n\n    function on_error(url) {\n      console.error(\"failed to load \" + url);\n    }\n\n    for (let i = 0; i < css_urls.length; i++) {\n      const url = css_urls[i];\n      const element = document.createElement(\"link\");\n      element.onload = on_load;\n      element.onerror = on_error.bind(null, url);\n      element.rel = \"stylesheet\";\n      element.type = \"text/css\";\n      element.href = url;\n      console.debug(\"Bokeh: injecting link tag for BokehJS stylesheet: \", url);\n      document.body.appendChild(element);\n    }\n\n    for (let i = 0; i < js_urls.length; i++) {\n      const url = js_urls[i];\n      const element = document.createElement('script');\n      element.onload = on_load;\n      element.onerror = on_error.bind(null, url);\n      element.async = false;\n      element.src = url;\n      console.debug(\"Bokeh: injecting script tag for BokehJS library: \", url);\n      document.head.appendChild(element);\n    }\n  };\n\n  function inject_raw_css(css) {\n    const element = document.createElement(\"style\");\n    element.appendChild(document.createTextNode(css));\n    document.body.appendChild(element);\n  }\n\n  const js_urls = [\"https://cdn.bokeh.org/bokeh/release/bokeh-3.7.0.min.js\", \"https://cdn.bokeh.org/bokeh/release/bokeh-gl-3.7.0.min.js\", \"https://cdn.bokeh.org/bokeh/release/bokeh-widgets-3.7.0.min.js\", \"https://cdn.bokeh.org/bokeh/release/bokeh-tables-3.7.0.min.js\", \"https://cdn.bokeh.org/bokeh/release/bokeh-mathjax-3.7.0.min.js\"];\n  const css_urls = [];\n\n  const inline_js = [    function(Bokeh) {\n      Bokeh.set_log_level(\"info\");\n    },\nfunction(Bokeh) {\n    }\n  ];\n\n  function run_inline_js() {\n    if (root.Bokeh !== undefined || force === true) {\n      try {\n            for (let i = 0; i < inline_js.length; i++) {\n      inline_js[i].call(root, root.Bokeh);\n    }\n\n      } catch (error) {display_loaded(error);throw error;\n      }if (force === true) {\n        display_loaded();\n      }} else if (Date.now() < root._bokeh_timeout) {\n      setTimeout(run_inline_js, 100);\n    } else if (!root._bokeh_failed_load) {\n      console.log(\"Bokeh: BokehJS failed to load within specified timeout.\");\n      root._bokeh_failed_load = true;\n    } else if (force !== true) {\n      const cell = $(document.getElementById(\"d1e35599-3423-461c-a576-31ec60ba4c0c\")).parents('.cell').data().cell;\n      cell.output_area.append_execute_result(NB_LOAD_WARNING)\n    }\n  }\n\n  if (root._bokeh_is_loading === 0) {\n    console.debug(\"Bokeh: BokehJS loaded, going straight to plotting\");\n    run_inline_js();\n  } else {\n    load_libs(css_urls, js_urls, function() {\n      console.debug(\"Bokeh: BokehJS plotting callback run at\", now());\n      run_inline_js();\n    });\n  }\n}(window));",
      "application/vnd.bokehjs_load.v0+json": ""
     },
     "metadata": {},
     "output_type": "display_data"
    }
   ],
   "source": [
    "from bokeh.plotting import figure, show\n",
    "from bokeh.models import ColumnDataSource, HoverTool, LabelSet\n",
    "from bokeh.io import output_notebook\n",
    "from bokeh.transform import factor_cmap, dodge, cumsum\n",
    "from bokeh.palettes import Category20c\n",
    "\n",
    "output_notebook()"
   ]
  },
  {
   "cell_type": "markdown",
   "metadata": {},
   "source": [
    "### Question 1: How prevalent is mental illness in tech?\n",
    "\n",
    "**Variables used:** `treatment`\n",
    "\n",
    "**Goal:**  \n",
    "To measure how many tech employees have received treatment for mental health issues.\n",
    "\n",
    "**Visualization:**  \n",
    "Pie chart with percentage labels.\n",
    "\n",
    "**Insight:**  \n",
    "Gives a general picture of how common mental health treatment is in the tech industry.\n"
   ]
  },
  {
   "cell_type": "code",
   "execution_count": 845,
   "metadata": {},
   "outputs": [
    {
     "data": {
      "text/html": [
       "\n",
       "  <div id=\"a4282252-c11a-44b0-8bc3-5226ed84be15\" data-root-id=\"p22457\" style=\"display: contents;\"></div>\n"
      ]
     },
     "metadata": {},
     "output_type": "display_data"
    },
    {
     "data": {
      "application/javascript": "(function(root) {\n  function embed_document(root) {\n  const docs_json = {\"ec0b7a49-f080-4c63-a334-3d0a30f5b97c\":{\"version\":\"3.7.0\",\"title\":\"Bokeh Application\",\"roots\":[{\"type\":\"object\",\"name\":\"Figure\",\"id\":\"p22457\",\"attributes\":{\"height\":400,\"x_range\":{\"type\":\"object\",\"name\":\"Range1d\",\"id\":\"p22467\",\"attributes\":{\"start\":-0.5}},\"y_range\":{\"type\":\"object\",\"name\":\"DataRange1d\",\"id\":\"p22459\"},\"x_scale\":{\"type\":\"object\",\"name\":\"LinearScale\",\"id\":\"p22468\"},\"y_scale\":{\"type\":\"object\",\"name\":\"LinearScale\",\"id\":\"p22469\"},\"title\":{\"type\":\"object\",\"name\":\"Title\",\"id\":\"p22460\",\"attributes\":{\"text\":\"Undergoing treatment for mental illnesses\",\"text_font_size\":\"16pt\",\"align\":\"center\"}},\"renderers\":[{\"type\":\"object\",\"name\":\"GlyphRenderer\",\"id\":\"p22489\",\"attributes\":{\"data_source\":{\"type\":\"object\",\"name\":\"ColumnDataSource\",\"id\":\"p22454\",\"attributes\":{\"selected\":{\"type\":\"object\",\"name\":\"Selection\",\"id\":\"p22455\",\"attributes\":{\"indices\":[],\"line_indices\":[]}},\"selection_policy\":{\"type\":\"object\",\"name\":\"UnionRenderers\",\"id\":\"p22456\"},\"data\":{\"type\":\"map\",\"entries\":[[\"index\",{\"type\":\"ndarray\",\"array\":{\"type\":\"bytes\",\"data\":\"AAAAAAEAAAA=\"},\"shape\":[2],\"dtype\":\"int32\",\"order\":\"little\"}],[\"treatment\",{\"type\":\"ndarray\",\"array\":[\"No\",\"Yes\"],\"shape\":[2],\"dtype\":\"object\",\"order\":\"little\"}],[\"value\",{\"type\":\"ndarray\",\"array\":{\"type\":\"bytes\",\"data\":\"H4PzMTgfSUDhfAzOx+BIQA==\"},\"shape\":[2],\"dtype\":\"float64\",\"order\":\"little\"}],[\"angle\",{\"type\":\"ndarray\",\"array\":{\"type\":\"bytes\",\"data\":\"EyLF9V1BCUAdOMOymAIJQA==\"},\"shape\":[2],\"dtype\":\"float64\",\"order\":\"little\"}],[\"color\",{\"type\":\"ndarray\",\"array\":[\"#e57373\",\"#c62828\"],\"shape\":[2],\"dtype\":\"object\",\"order\":\"little\"}],[\"label\",{\"type\":\"ndarray\",\"array\":[\"No \\u2014 50.2%\",\"Yes \\u2014 49.8%\"],\"shape\":[2],\"dtype\":\"object\",\"order\":\"little\"}],[\"theta\",{\"type\":\"ndarray\",\"array\":{\"type\":\"bytes\",\"data\":\"EyLF9V1B+T8RX5MnVeESQA==\"},\"shape\":[2],\"dtype\":\"float64\",\"order\":\"little\"}],[\"x\",{\"type\":\"ndarray\",\"array\":{\"type\":\"bytes\",\"data\":\"Y5teYI1iX7/Wm15gjWJfPw==\"},\"shape\":[2],\"dtype\":\"float64\",\"order\":\"little\"}],[\"y\",{\"type\":\"ndarray\",\"array\":{\"type\":\"bytes\",\"data\":\"JD3wTfj/8z+5hR9kDwDoPw==\"},\"shape\":[2],\"dtype\":\"float64\",\"order\":\"little\"}],[\"percent\",{\"type\":\"ndarray\",\"array\":[\"50.2%\",\"49.8%\"],\"shape\":[2],\"dtype\":\"object\",\"order\":\"little\"}]]}}},\"view\":{\"type\":\"object\",\"name\":\"CDSView\",\"id\":\"p22490\",\"attributes\":{\"filter\":{\"type\":\"object\",\"name\":\"AllIndices\",\"id\":\"p22491\"}}},\"glyph\":{\"type\":\"object\",\"name\":\"Wedge\",\"id\":\"p22486\",\"attributes\":{\"x\":{\"type\":\"value\",\"value\":0},\"y\":{\"type\":\"value\",\"value\":1},\"radius\":{\"type\":\"value\",\"value\":0.4},\"start_angle\":{\"type\":\"expr\",\"expr\":{\"type\":\"object\",\"name\":\"CumSum\",\"id\":\"p22481\",\"attributes\":{\"field\":\"angle\",\"include_zero\":true}}},\"end_angle\":{\"type\":\"expr\",\"expr\":{\"type\":\"object\",\"name\":\"CumSum\",\"id\":\"p22482\",\"attributes\":{\"field\":\"angle\"}}},\"line_color\":{\"type\":\"value\",\"value\":\"white\"},\"fill_color\":{\"type\":\"field\",\"field\":\"color\"}}},\"nonselection_glyph\":{\"type\":\"object\",\"name\":\"Wedge\",\"id\":\"p22487\",\"attributes\":{\"x\":{\"type\":\"value\",\"value\":0},\"y\":{\"type\":\"value\",\"value\":1},\"radius\":{\"type\":\"value\",\"value\":0.4},\"start_angle\":{\"type\":\"expr\",\"expr\":{\"id\":\"p22481\"}},\"end_angle\":{\"type\":\"expr\",\"expr\":{\"id\":\"p22482\"}},\"line_color\":{\"type\":\"value\",\"value\":\"white\"},\"line_alpha\":{\"type\":\"value\",\"value\":0.1},\"fill_color\":{\"type\":\"field\",\"field\":\"color\"},\"fill_alpha\":{\"type\":\"value\",\"value\":0.1},\"hatch_alpha\":{\"type\":\"value\",\"value\":0.1}}},\"muted_glyph\":{\"type\":\"object\",\"name\":\"Wedge\",\"id\":\"p22488\",\"attributes\":{\"x\":{\"type\":\"value\",\"value\":0},\"y\":{\"type\":\"value\",\"value\":1},\"radius\":{\"type\":\"value\",\"value\":0.4},\"start_angle\":{\"type\":\"expr\",\"expr\":{\"id\":\"p22481\"}},\"end_angle\":{\"type\":\"expr\",\"expr\":{\"id\":\"p22482\"}},\"line_color\":{\"type\":\"value\",\"value\":\"white\"},\"line_alpha\":{\"type\":\"value\",\"value\":0.2},\"fill_color\":{\"type\":\"field\",\"field\":\"color\"},\"fill_alpha\":{\"type\":\"value\",\"value\":0.2},\"hatch_alpha\":{\"type\":\"value\",\"value\":0.2}}}}}],\"toolbar\":{\"type\":\"object\",\"name\":\"Toolbar\",\"id\":\"p22466\",\"attributes\":{\"tools\":[{\"type\":\"object\",\"name\":\"HoverTool\",\"id\":\"p22480\",\"attributes\":{\"renderers\":\"auto\",\"tooltips\":\"@label\"}}]}},\"toolbar_location\":null,\"left\":[{\"type\":\"object\",\"name\":\"LinearAxis\",\"id\":\"p22475\",\"attributes\":{\"visible\":false,\"ticker\":{\"type\":\"object\",\"name\":\"BasicTicker\",\"id\":\"p22476\",\"attributes\":{\"mantissas\":[1,2,5]}},\"formatter\":{\"type\":\"object\",\"name\":\"BasicTickFormatter\",\"id\":\"p22477\"},\"major_label_policy\":{\"type\":\"object\",\"name\":\"AllLabels\",\"id\":\"p22478\"}}}],\"below\":[{\"type\":\"object\",\"name\":\"LinearAxis\",\"id\":\"p22470\",\"attributes\":{\"visible\":false,\"ticker\":{\"type\":\"object\",\"name\":\"BasicTicker\",\"id\":\"p22471\",\"attributes\":{\"mantissas\":[1,2,5]}},\"formatter\":{\"type\":\"object\",\"name\":\"BasicTickFormatter\",\"id\":\"p22472\"},\"major_label_policy\":{\"type\":\"object\",\"name\":\"AllLabels\",\"id\":\"p22473\"}}}],\"center\":[{\"type\":\"object\",\"name\":\"Grid\",\"id\":\"p22474\",\"attributes\":{\"visible\":false,\"axis\":{\"id\":\"p22470\"}}},{\"type\":\"object\",\"name\":\"Grid\",\"id\":\"p22479\",\"attributes\":{\"visible\":false,\"dimension\":1,\"axis\":{\"id\":\"p22475\"}}},{\"type\":\"object\",\"name\":\"Legend\",\"id\":\"p22492\",\"attributes\":{\"label_text_font_size\":\"9pt\",\"items\":[{\"type\":\"object\",\"name\":\"LegendItem\",\"id\":\"p22493\",\"attributes\":{\"label\":{\"type\":\"field\",\"field\":\"label\"},\"renderers\":[{\"id\":\"p22489\"}]}}]}},{\"type\":\"object\",\"name\":\"LabelSet\",\"id\":\"p22494\",\"attributes\":{\"level\":\"glyph\",\"source\":{\"id\":\"p22454\"},\"x\":{\"type\":\"field\",\"field\":\"x\"},\"y\":{\"type\":\"field\",\"field\":\"y\"},\"text\":{\"type\":\"field\",\"field\":\"percent\"},\"text_color\":{\"type\":\"value\",\"value\":\"white\"},\"text_font_size\":{\"type\":\"value\",\"value\":\"14pt\"},\"text_align\":{\"type\":\"value\",\"value\":\"center\"},\"text_baseline\":{\"type\":\"value\",\"value\":\"middle\"}}}]}}]}};\n  const render_items = [{\"docid\":\"ec0b7a49-f080-4c63-a334-3d0a30f5b97c\",\"roots\":{\"p22457\":\"a4282252-c11a-44b0-8bc3-5226ed84be15\"},\"root_ids\":[\"p22457\"]}];\n  void root.Bokeh.embed.embed_items_notebook(docs_json, render_items);\n  }\n  if (root.Bokeh !== undefined) {\n    embed_document(root);\n  } else {\n    let attempts = 0;\n    const timer = setInterval(function(root) {\n      if (root.Bokeh !== undefined) {\n        clearInterval(timer);\n        embed_document(root);\n      } else {\n        attempts++;\n        if (attempts > 100) {\n          clearInterval(timer);\n          console.log(\"Bokeh: ERROR: Unable to run BokehJS code because BokehJS library is missing\");\n        }\n      }\n    }, 10, root)\n  }\n})(window);",
      "application/vnd.bokehjs_exec.v0+json": ""
     },
     "metadata": {
      "application/vnd.bokehjs_exec.v0+json": {
       "id": "p22457"
      }
     },
     "output_type": "display_data"
    }
   ],
   "source": [
    "import numpy as np\n",
    "\n",
    "treatment_counts = cleaned_df[\"treatment\"].value_counts()\n",
    "treatment_percent = treatment_counts / treatment_counts.sum() * 100\n",
    "\n",
    "data = pd.DataFrame(\n",
    "    {\"treatment\": treatment_percent.index, \"value\": treatment_percent.values}\n",
    ")\n",
    "data[\"angle\"] = data[\"value\"] / data[\"value\"].sum() * 2 * np.pi\n",
    "data[\"color\"] = [\"#e57373\", \"#c62828\"]\n",
    "data[\"label\"] = data.apply(\n",
    "    lambda row: f\"{row['treatment']} — {row['value']:.1f}%\", axis=1\n",
    ")\n",
    "angles = np.cumsum([0] + list(data[\"angle\"][:-1]))\n",
    "data[\"theta\"] = angles + data[\"angle\"] / 2\n",
    "data[\"x\"] = 0.25 * np.cos(data[\"theta\"])\n",
    "data[\"y\"] = 1 + 0.25 * np.sin(data[\"theta\"])\n",
    "data[\"percent\"] = data[\"value\"].apply(lambda x: f\"{x:.1f}%\")\n",
    "\n",
    "source = ColumnDataSource(data)\n",
    "\n",
    "p = figure(\n",
    "    height=400,\n",
    "    title=\"Undergoing treatment for mental illnesses\",\n",
    "    toolbar_location=None,\n",
    "    tools=\"hover\",\n",
    "    tooltips=\"@label\",\n",
    "    x_range=(-0.5, 1.0),\n",
    ")\n",
    "\n",
    "p.wedge(\n",
    "    x=0,\n",
    "    y=1,\n",
    "    radius=0.4,\n",
    "    start_angle=cumsum(\"angle\", include_zero=True),\n",
    "    end_angle=cumsum(\"angle\"),\n",
    "    line_color=\"white\",\n",
    "    fill_color=\"color\",\n",
    "    legend_field=\"label\",\n",
    "    source=source,\n",
    ")\n",
    "\n",
    "labels = LabelSet(\n",
    "    x=\"x\",\n",
    "    y=\"y\",\n",
    "    text=\"percent\",\n",
    "    level=\"glyph\",\n",
    "    x_offset=0,\n",
    "    y_offset=0,\n",
    "    text_align=\"center\",\n",
    "    text_baseline=\"middle\",\n",
    "    text_color=\"white\",\n",
    "    source=source,\n",
    "    text_font_size=\"14pt\",\n",
    ")\n",
    "\n",
    "p.add_layout(labels)\n",
    "\n",
    "p.axis.visible = False\n",
    "p.grid.visible = False\n",
    "p.legend.label_text_font_size = \"9pt\"\n",
    "p.title.text_font_size = \"16pt\"\n",
    "p.title.align = \"center\"\n",
    "show(p)"
   ]
  },
  {
   "cell_type": "markdown",
   "metadata": {},
   "source": [
    "### Question 2: Does age affect the likelihood of treatment?\n",
    "\n",
    "**Variables used:** `Age`, `treatment`\n",
    "\n",
    "**Goal:**  \n",
    "To explore if mental health treatment is more common in specific age groups.\n",
    "\n",
    "**Visualization:**  \n",
    "Histogram of age with grouped color bars (by treatment status).\n",
    "\n",
    "**Insight:**  \n",
    "Helps determine whether younger or older employees are more likely to seek help.\n"
   ]
  },
  {
   "cell_type": "code",
   "execution_count": 846,
   "metadata": {},
   "outputs": [
    {
     "data": {
      "text/html": [
       "\n",
       "  <div id=\"a62405a6-2409-46cf-ac1e-9cddb6534f20\" data-root-id=\"p22507\" style=\"display: contents;\"></div>\n"
      ]
     },
     "metadata": {},
     "output_type": "display_data"
    },
    {
     "data": {
      "application/javascript": "(function(root) {\n  function embed_document(root) {\n  const docs_json = {\"cae52044-9dc7-4907-b49e-f2b3ff519555\":{\"version\":\"3.7.0\",\"title\":\"Bokeh Application\",\"roots\":[{\"type\":\"object\",\"name\":\"Figure\",\"id\":\"p22507\",\"attributes\":{\"width\":800,\"height\":500,\"x_range\":{\"type\":\"object\",\"name\":\"FactorRange\",\"id\":\"p22517\",\"attributes\":{\"factors\":[\"18 - 24\",\"25 - 29\",\"30 - 34\",\"35 - 39\",\"40 - 44\",\"45 - 49\",\"50 - 54\",\"55 - 59\",\"60 - 64\"]}},\"y_range\":{\"type\":\"object\",\"name\":\"Range1d\",\"id\":\"p22518\",\"attributes\":{\"end\":257}},\"x_scale\":{\"type\":\"object\",\"name\":\"CategoricalScale\",\"id\":\"p22519\"},\"y_scale\":{\"type\":\"object\",\"name\":\"LinearScale\",\"id\":\"p22520\"},\"title\":{\"type\":\"object\",\"name\":\"Title\",\"id\":\"p22510\",\"attributes\":{\"text\":\"Treatment Seeking by Age Group\",\"text_font_size\":\"16pt\",\"align\":\"center\"}},\"outline_line_color\":null,\"renderers\":[{\"type\":\"object\",\"name\":\"GlyphRenderer\",\"id\":\"p22551\",\"attributes\":{\"data_source\":{\"type\":\"object\",\"name\":\"ColumnDataSource\",\"id\":\"p22504\",\"attributes\":{\"selected\":{\"type\":\"object\",\"name\":\"Selection\",\"id\":\"p22505\",\"attributes\":{\"indices\":[],\"line_indices\":[]}},\"selection_policy\":{\"type\":\"object\",\"name\":\"UnionRenderers\",\"id\":\"p22506\"},\"data\":{\"type\":\"map\",\"entries\":[[\"age_group\",[\"18 - 24\",\"25 - 29\",\"30 - 34\",\"35 - 39\",\"40 - 44\",\"45 - 49\",\"50 - 54\",\"55 - 59\",\"60 - 64\"]],[\"Yes\",[58,144,147,77,50,19,5,8,2]],[\"No\",[70,157,152,81,33,10,8,2,2]],[\"percent_yes\",[\"45.3%\",\"47.8%\",\"49.2%\",\"48.7%\",\"60.2%\",\"65.5%\",\"38.5%\",\"80.0%\",\"50.0%\"]],[\"percent_no\",[\"54.7%\",\"52.2%\",\"50.8%\",\"51.3%\",\"39.8%\",\"34.5%\",\"61.5%\",\"20.0%\",\"50.0%\"]],[\"y_yes\",[63,149,152,82,55,24,10,13,7]],[\"y_no\",[75,162,157,86,38,15,13,7,7]],[\"x_yes\",[\"18 - 24\",\"25 - 29\",\"30 - 34\",\"35 - 39\",\"40 - 44\",\"45 - 49\",\"50 - 54\",\"55 - 59\",\"60 - 64\"]],[\"x_no\",[\"18 - 24\",\"25 - 29\",\"30 - 34\",\"35 - 39\",\"40 - 44\",\"45 - 49\",\"50 - 54\",\"55 - 59\",\"60 - 64\"]]]}}},\"view\":{\"type\":\"object\",\"name\":\"CDSView\",\"id\":\"p22552\",\"attributes\":{\"filter\":{\"type\":\"object\",\"name\":\"AllIndices\",\"id\":\"p22553\"}}},\"glyph\":{\"type\":\"object\",\"name\":\"VBar\",\"id\":\"p22548\",\"attributes\":{\"x\":{\"type\":\"field\",\"field\":\"age_group\",\"transform\":{\"type\":\"object\",\"name\":\"Dodge\",\"id\":\"p22544\",\"attributes\":{\"value\":-0.2,\"range\":{\"id\":\"p22517\"}}}},\"width\":{\"type\":\"value\",\"value\":0.4},\"top\":{\"type\":\"field\",\"field\":\"Yes\"},\"line_color\":{\"type\":\"value\",\"value\":\"#d0bcfe\"},\"fill_color\":{\"type\":\"value\",\"value\":\"#d0bcfe\"},\"hatch_color\":{\"type\":\"value\",\"value\":\"#d0bcfe\"}}},\"nonselection_glyph\":{\"type\":\"object\",\"name\":\"VBar\",\"id\":\"p22549\",\"attributes\":{\"x\":{\"type\":\"field\",\"field\":\"age_group\",\"transform\":{\"id\":\"p22544\"}},\"width\":{\"type\":\"value\",\"value\":0.4},\"top\":{\"type\":\"field\",\"field\":\"Yes\"},\"line_color\":{\"type\":\"value\",\"value\":\"#d0bcfe\"},\"line_alpha\":{\"type\":\"value\",\"value\":0.1},\"fill_color\":{\"type\":\"value\",\"value\":\"#d0bcfe\"},\"fill_alpha\":{\"type\":\"value\",\"value\":0.1},\"hatch_color\":{\"type\":\"value\",\"value\":\"#d0bcfe\"},\"hatch_alpha\":{\"type\":\"value\",\"value\":0.1}}},\"muted_glyph\":{\"type\":\"object\",\"name\":\"VBar\",\"id\":\"p22550\",\"attributes\":{\"x\":{\"type\":\"field\",\"field\":\"age_group\",\"transform\":{\"id\":\"p22544\"}},\"width\":{\"type\":\"value\",\"value\":0.4},\"top\":{\"type\":\"field\",\"field\":\"Yes\"},\"line_color\":{\"type\":\"value\",\"value\":\"#d0bcfe\"},\"line_alpha\":{\"type\":\"value\",\"value\":0.2},\"fill_color\":{\"type\":\"value\",\"value\":\"#d0bcfe\"},\"fill_alpha\":{\"type\":\"value\",\"value\":0.2},\"hatch_color\":{\"type\":\"value\",\"value\":\"#d0bcfe\"},\"hatch_alpha\":{\"type\":\"value\",\"value\":0.2}}}}},{\"type\":\"object\",\"name\":\"GlyphRenderer\",\"id\":\"p22563\",\"attributes\":{\"data_source\":{\"id\":\"p22504\"},\"view\":{\"type\":\"object\",\"name\":\"CDSView\",\"id\":\"p22564\",\"attributes\":{\"filter\":{\"type\":\"object\",\"name\":\"AllIndices\",\"id\":\"p22565\"}}},\"glyph\":{\"type\":\"object\",\"name\":\"VBar\",\"id\":\"p22560\",\"attributes\":{\"x\":{\"type\":\"field\",\"field\":\"age_group\",\"transform\":{\"type\":\"object\",\"name\":\"Dodge\",\"id\":\"p22556\",\"attributes\":{\"value\":0.2,\"range\":{\"id\":\"p22517\"}}}},\"width\":{\"type\":\"value\",\"value\":0.4},\"top\":{\"type\":\"field\",\"field\":\"No\"},\"line_color\":{\"type\":\"value\",\"value\":\"#6a7fd2\"},\"fill_color\":{\"type\":\"value\",\"value\":\"#6a7fd2\"},\"hatch_color\":{\"type\":\"value\",\"value\":\"#6a7fd2\"}}},\"nonselection_glyph\":{\"type\":\"object\",\"name\":\"VBar\",\"id\":\"p22561\",\"attributes\":{\"x\":{\"type\":\"field\",\"field\":\"age_group\",\"transform\":{\"id\":\"p22556\"}},\"width\":{\"type\":\"value\",\"value\":0.4},\"top\":{\"type\":\"field\",\"field\":\"No\"},\"line_color\":{\"type\":\"value\",\"value\":\"#6a7fd2\"},\"line_alpha\":{\"type\":\"value\",\"value\":0.1},\"fill_color\":{\"type\":\"value\",\"value\":\"#6a7fd2\"},\"fill_alpha\":{\"type\":\"value\",\"value\":0.1},\"hatch_color\":{\"type\":\"value\",\"value\":\"#6a7fd2\"},\"hatch_alpha\":{\"type\":\"value\",\"value\":0.1}}},\"muted_glyph\":{\"type\":\"object\",\"name\":\"VBar\",\"id\":\"p22562\",\"attributes\":{\"x\":{\"type\":\"field\",\"field\":\"age_group\",\"transform\":{\"id\":\"p22556\"}},\"width\":{\"type\":\"value\",\"value\":0.4},\"top\":{\"type\":\"field\",\"field\":\"No\"},\"line_color\":{\"type\":\"value\",\"value\":\"#6a7fd2\"},\"line_alpha\":{\"type\":\"value\",\"value\":0.2},\"fill_color\":{\"type\":\"value\",\"value\":\"#6a7fd2\"},\"fill_alpha\":{\"type\":\"value\",\"value\":0.2},\"hatch_color\":{\"type\":\"value\",\"value\":\"#6a7fd2\"},\"hatch_alpha\":{\"type\":\"value\",\"value\":0.2}}}}}],\"toolbar\":{\"type\":\"object\",\"name\":\"Toolbar\",\"id\":\"p22516\",\"attributes\":{\"tools\":[{\"type\":\"object\",\"name\":\"PanTool\",\"id\":\"p22531\"},{\"type\":\"object\",\"name\":\"WheelZoomTool\",\"id\":\"p22532\",\"attributes\":{\"renderers\":\"auto\"}},{\"type\":\"object\",\"name\":\"BoxZoomTool\",\"id\":\"p22533\",\"attributes\":{\"dimensions\":\"both\",\"overlay\":{\"type\":\"object\",\"name\":\"BoxAnnotation\",\"id\":\"p22534\",\"attributes\":{\"syncable\":false,\"line_color\":\"black\",\"line_alpha\":1.0,\"line_width\":2,\"line_dash\":[4,4],\"fill_color\":\"lightgrey\",\"fill_alpha\":0.5,\"level\":\"overlay\",\"visible\":false,\"left\":{\"type\":\"number\",\"value\":\"nan\"},\"right\":{\"type\":\"number\",\"value\":\"nan\"},\"top\":{\"type\":\"number\",\"value\":\"nan\"},\"bottom\":{\"type\":\"number\",\"value\":\"nan\"},\"left_units\":\"canvas\",\"right_units\":\"canvas\",\"top_units\":\"canvas\",\"bottom_units\":\"canvas\",\"handles\":{\"type\":\"object\",\"name\":\"BoxInteractionHandles\",\"id\":\"p22540\",\"attributes\":{\"all\":{\"type\":\"object\",\"name\":\"AreaVisuals\",\"id\":\"p22539\",\"attributes\":{\"fill_color\":\"white\",\"hover_fill_color\":\"lightgray\"}}}}}}}},{\"type\":\"object\",\"name\":\"SaveTool\",\"id\":\"p22541\"},{\"type\":\"object\",\"name\":\"ResetTool\",\"id\":\"p22542\"},{\"type\":\"object\",\"name\":\"HelpTool\",\"id\":\"p22543\"}]}},\"left\":[{\"type\":\"object\",\"name\":\"LinearAxis\",\"id\":\"p22526\",\"attributes\":{\"ticker\":{\"type\":\"object\",\"name\":\"BasicTicker\",\"id\":\"p22527\",\"attributes\":{\"mantissas\":[1,2,5]}},\"formatter\":{\"type\":\"object\",\"name\":\"BasicTickFormatter\",\"id\":\"p22528\"},\"axis_label\":\"Number of Respondents\",\"major_label_policy\":{\"type\":\"object\",\"name\":\"AllLabels\",\"id\":\"p22529\"}}}],\"below\":[{\"type\":\"object\",\"name\":\"CategoricalAxis\",\"id\":\"p22521\",\"attributes\":{\"ticker\":{\"type\":\"object\",\"name\":\"CategoricalTicker\",\"id\":\"p22522\"},\"formatter\":{\"type\":\"object\",\"name\":\"CategoricalTickFormatter\",\"id\":\"p22523\"},\"axis_label\":\"Age Range\",\"major_label_orientation\":1,\"major_label_policy\":{\"type\":\"object\",\"name\":\"AllLabels\",\"id\":\"p22524\"}}}],\"center\":[{\"type\":\"object\",\"name\":\"Grid\",\"id\":\"p22525\",\"attributes\":{\"axis\":{\"id\":\"p22521\"},\"grid_line_alpha\":0.25}},{\"type\":\"object\",\"name\":\"Grid\",\"id\":\"p22530\",\"attributes\":{\"dimension\":1,\"axis\":{\"id\":\"p22526\"},\"grid_line_alpha\":0.25}},{\"type\":\"object\",\"name\":\"Legend\",\"id\":\"p22554\",\"attributes\":{\"title\":\"Treatment\",\"label_text_font_size\":\"8pt\",\"items\":[{\"type\":\"object\",\"name\":\"LegendItem\",\"id\":\"p22555\",\"attributes\":{\"label\":{\"type\":\"value\",\"value\":\"Yes\"},\"renderers\":[{\"id\":\"p22551\"}]}},{\"type\":\"object\",\"name\":\"LegendItem\",\"id\":\"p22566\",\"attributes\":{\"label\":{\"type\":\"value\",\"value\":\"No\"},\"renderers\":[{\"id\":\"p22563\"}]}}]}},{\"type\":\"object\",\"name\":\"LabelSet\",\"id\":\"p22568\",\"attributes\":{\"level\":\"glyph\",\"source\":{\"id\":\"p22504\"},\"x\":{\"type\":\"field\",\"field\":\"age_group\",\"transform\":{\"type\":\"object\",\"name\":\"Dodge\",\"id\":\"p22567\",\"attributes\":{\"value\":-0.2,\"range\":{\"id\":\"p22517\"}}}},\"y\":{\"type\":\"field\",\"field\":\"y_yes\"},\"text\":{\"type\":\"field\",\"field\":\"percent_yes\"},\"text_color\":{\"type\":\"value\",\"value\":\"#333\"},\"text_font_size\":{\"type\":\"value\",\"value\":\"8pt\"},\"text_align\":{\"type\":\"value\",\"value\":\"center\"}}},{\"type\":\"object\",\"name\":\"LabelSet\",\"id\":\"p22573\",\"attributes\":{\"level\":\"glyph\",\"source\":{\"id\":\"p22504\"},\"x\":{\"type\":\"field\",\"field\":\"age_group\",\"transform\":{\"type\":\"object\",\"name\":\"Dodge\",\"id\":\"p22572\",\"attributes\":{\"value\":0.2,\"range\":{\"id\":\"p22517\"}}}},\"y\":{\"type\":\"field\",\"field\":\"y_no\"},\"text\":{\"type\":\"field\",\"field\":\"percent_no\"},\"text_color\":{\"type\":\"value\",\"value\":\"#333\"},\"text_font_size\":{\"type\":\"value\",\"value\":\"8pt\"},\"text_align\":{\"type\":\"value\",\"value\":\"center\"}}}],\"background_fill_color\":\"#fafafa\"}}]}};\n  const render_items = [{\"docid\":\"cae52044-9dc7-4907-b49e-f2b3ff519555\",\"roots\":{\"p22507\":\"a62405a6-2409-46cf-ac1e-9cddb6534f20\"},\"root_ids\":[\"p22507\"]}];\n  void root.Bokeh.embed.embed_items_notebook(docs_json, render_items);\n  }\n  if (root.Bokeh !== undefined) {\n    embed_document(root);\n  } else {\n    let attempts = 0;\n    const timer = setInterval(function(root) {\n      if (root.Bokeh !== undefined) {\n        clearInterval(timer);\n        embed_document(root);\n      } else {\n        attempts++;\n        if (attempts > 100) {\n          clearInterval(timer);\n          console.log(\"Bokeh: ERROR: Unable to run BokehJS code because BokehJS library is missing\");\n        }\n      }\n    }, 10, root)\n  }\n})(window);",
      "application/vnd.bokehjs_exec.v0+json": ""
     },
     "metadata": {
      "application/vnd.bokehjs_exec.v0+json": {
       "id": "p22507"
      }
     },
     "output_type": "display_data"
    }
   ],
   "source": [
    "bins = [18, 25, 30, 35, 40, 45, 50, 55, 60, 65, 70]\n",
    "\n",
    "cleaned_df[\"age_group\"] = pd.cut(cleaned_df[\"Age\"], bins, right=False)\n",
    "grouped = (\n",
    "    cleaned_df.groupby([\"age_group\", \"treatment\"], observed=True)\n",
    "    .size()\n",
    "    .unstack(fill_value=0)\n",
    ")\n",
    "grouped.index = grouped.index.map(lambda x: f\"{int(x.left)} - {int(x.right - 1)}\")\n",
    "total_counts = grouped.sum(axis=1)\n",
    "percent_yes = (grouped[\"Yes\"] / total_counts * 100).round(1).astype(str) + \"%\"\n",
    "percent_no = (grouped[\"No\"] / total_counts * 100).round(1).astype(str) + \"%\"\n",
    "\n",
    "source = ColumnDataSource(\n",
    "    data=dict(\n",
    "        age_group=grouped.index.tolist(),\n",
    "        Yes=grouped[\"Yes\"].tolist(),\n",
    "        No=grouped[\"No\"].tolist(),\n",
    "        percent_yes=percent_yes.tolist(),\n",
    "        percent_no=percent_no.tolist(),\n",
    "        y_yes=(grouped[\"Yes\"] + 5).tolist(),\n",
    "        y_no=(grouped[\"No\"] + 5).tolist(),\n",
    "        x_yes=grouped.index.tolist(),\n",
    "        x_no=grouped.index.tolist(),\n",
    "    )\n",
    ")\n",
    "\n",
    "p = figure(\n",
    "    x_range=grouped.index.tolist(),\n",
    "    y_range=(0, grouped.values.max() + 100),\n",
    "    title=\"Treatment Seeking by Age Group\",\n",
    "    width=800,\n",
    "    height=500,\n",
    "    background_fill_color=\"#fafafa\",\n",
    ")\n",
    "\n",
    "p.vbar(\n",
    "    x=dodge(\"age_group\", -0.2, range=p.x_range),\n",
    "    top=\"Yes\",\n",
    "    width=0.4,\n",
    "    source=source,\n",
    "    color=\"#d0bcfe\",\n",
    "    legend_label=\"Yes\",\n",
    ")\n",
    "\n",
    "p.vbar(\n",
    "    x=dodge(\"age_group\", 0.2, range=p.x_range),\n",
    "    top=\"No\",\n",
    "    width=0.4,\n",
    "    source=source,\n",
    "    color=\"#6a7fd2\",\n",
    "    legend_label=\"No\",\n",
    ")\n",
    "\n",
    "\n",
    "labels_yes = LabelSet(\n",
    "    x=dodge(\"age_group\", -0.2, range=p.x_range),\n",
    "    y=\"y_yes\",\n",
    "    text=\"percent_yes\",\n",
    "    level=\"glyph\",\n",
    "    source=source,\n",
    "    text_align=\"center\",\n",
    "    text_baseline=\"bottom\",\n",
    "    text_font_size=\"8pt\",\n",
    "    text_color=\"#333\",\n",
    ")\n",
    "\n",
    "labels_no = LabelSet(\n",
    "    x=dodge(\"age_group\", 0.2, range=p.x_range),\n",
    "    y=\"y_no\",\n",
    "    text=\"percent_no\",\n",
    "    level=\"glyph\",\n",
    "    source=source,\n",
    "    text_align=\"center\",\n",
    "    text_baseline=\"bottom\",\n",
    "    text_font_size=\"8pt\",\n",
    "    text_color=\"#333\",\n",
    ")\n",
    "\n",
    "p.add_layout(labels_yes)\n",
    "p.add_layout(labels_no)\n",
    "\n",
    "p.title.text_font_size = \"16pt\"\n",
    "p.title.align = \"center\"\n",
    "p.xaxis.axis_label = \"Age Range\"\n",
    "p.yaxis.axis_label = \"Number of Respondents\"\n",
    "p.xaxis.major_label_orientation = 1\n",
    "p.outline_line_color = None\n",
    "p.grid.grid_line_alpha = 0.25\n",
    "p.legend.title = \"Treatment\"\n",
    "p.legend.location = \"top_right\"\n",
    "p.legend.label_text_font_size = \"8pt\"\n",
    "\n",
    "show(p)"
   ]
  },
  {
   "cell_type": "markdown",
   "metadata": {},
   "source": [
    "### Question 3: Does family history influence treatment?\n",
    "\n",
    "**Variables used:** `family_history`, `treatment`\n",
    "\n",
    "**Goal:**  \n",
    "To check if people with a family history of mental illness are more likely to seek treatment.\n",
    "\n",
    "**Visualization:**  \n",
    "Grouped bar chart (horizontal or vertical).\n",
    "\n",
    "**Insight:**  \n",
    "Shows the relationship between inherited mental health factors and actual help-seeking behavior.\n"
   ]
  },
  {
   "cell_type": "code",
   "execution_count": 847,
   "metadata": {},
   "outputs": [
    {
     "data": {
      "text/html": [
       "\n",
       "  <div id=\"c8df192d-a2fd-4ff3-9d18-1e6c4cd48b5f\" data-root-id=\"p22580\" style=\"display: contents;\"></div>\n"
      ]
     },
     "metadata": {},
     "output_type": "display_data"
    },
    {
     "data": {
      "application/javascript": "(function(root) {\n  function embed_document(root) {\n  const docs_json = {\"596ab7ad-262a-4564-a246-3be5a9de26e7\":{\"version\":\"3.7.0\",\"title\":\"Bokeh Application\",\"roots\":[{\"type\":\"object\",\"name\":\"Figure\",\"id\":\"p22580\",\"attributes\":{\"width\":800,\"height\":500,\"x_range\":{\"type\":\"object\",\"name\":\"DataRange1d\",\"id\":\"p22582\",\"attributes\":{\"start\":0}},\"y_range\":{\"type\":\"object\",\"name\":\"FactorRange\",\"id\":\"p22590\",\"attributes\":{\"factors\":[\"No\",\"Yes\"]}},\"x_scale\":{\"type\":\"object\",\"name\":\"LinearScale\",\"id\":\"p22591\"},\"y_scale\":{\"type\":\"object\",\"name\":\"CategoricalScale\",\"id\":\"p22592\"},\"title\":{\"type\":\"object\",\"name\":\"Title\",\"id\":\"p22583\",\"attributes\":{\"text\":\"Family history and treatment\",\"text_font_size\":\"16pt\",\"align\":\"center\"}},\"renderers\":[{\"type\":\"object\",\"name\":\"GlyphRenderer\",\"id\":\"p22623\",\"attributes\":{\"data_source\":{\"type\":\"object\",\"name\":\"ColumnDataSource\",\"id\":\"p22577\",\"attributes\":{\"selected\":{\"type\":\"object\",\"name\":\"Selection\",\"id\":\"p22578\",\"attributes\":{\"indices\":[],\"line_indices\":[]}},\"selection_policy\":{\"type\":\"object\",\"name\":\"UnionRenderers\",\"id\":\"p22579\"},\"data\":{\"type\":\"map\",\"entries\":[[\"y\",[\"No\",\"Yes\"]],[\"yes\",[34.59119496855346,74.55012853470437]],[\"no\",[65.40880503144653,25.449871465295633]]]}}},\"view\":{\"type\":\"object\",\"name\":\"CDSView\",\"id\":\"p22624\",\"attributes\":{\"filter\":{\"type\":\"object\",\"name\":\"AllIndices\",\"id\":\"p22625\"}}},\"glyph\":{\"type\":\"object\",\"name\":\"HBar\",\"id\":\"p22620\",\"attributes\":{\"y\":{\"type\":\"field\",\"field\":\"y\",\"transform\":{\"type\":\"object\",\"name\":\"Dodge\",\"id\":\"p22616\",\"attributes\":{\"value\":-0.15,\"range\":{\"id\":\"p22590\"}}}},\"height\":{\"type\":\"value\",\"value\":0.25},\"right\":{\"type\":\"field\",\"field\":\"yes\"},\"line_color\":{\"type\":\"value\",\"value\":\"#1f77b4\"},\"fill_color\":{\"type\":\"value\",\"value\":\"#1f77b4\"},\"hatch_color\":{\"type\":\"value\",\"value\":\"#1f77b4\"}}},\"nonselection_glyph\":{\"type\":\"object\",\"name\":\"HBar\",\"id\":\"p22621\",\"attributes\":{\"y\":{\"type\":\"field\",\"field\":\"y\",\"transform\":{\"id\":\"p22616\"}},\"height\":{\"type\":\"value\",\"value\":0.25},\"right\":{\"type\":\"field\",\"field\":\"yes\"},\"line_color\":{\"type\":\"value\",\"value\":\"#1f77b4\"},\"line_alpha\":{\"type\":\"value\",\"value\":0.1},\"fill_color\":{\"type\":\"value\",\"value\":\"#1f77b4\"},\"fill_alpha\":{\"type\":\"value\",\"value\":0.1},\"hatch_color\":{\"type\":\"value\",\"value\":\"#1f77b4\"},\"hatch_alpha\":{\"type\":\"value\",\"value\":0.1}}},\"muted_glyph\":{\"type\":\"object\",\"name\":\"HBar\",\"id\":\"p22622\",\"attributes\":{\"y\":{\"type\":\"field\",\"field\":\"y\",\"transform\":{\"id\":\"p22616\"}},\"height\":{\"type\":\"value\",\"value\":0.25},\"right\":{\"type\":\"field\",\"field\":\"yes\"},\"line_color\":{\"type\":\"value\",\"value\":\"#1f77b4\"},\"line_alpha\":{\"type\":\"value\",\"value\":0.2},\"fill_color\":{\"type\":\"value\",\"value\":\"#1f77b4\"},\"fill_alpha\":{\"type\":\"value\",\"value\":0.2},\"hatch_color\":{\"type\":\"value\",\"value\":\"#1f77b4\"},\"hatch_alpha\":{\"type\":\"value\",\"value\":0.2}}}}},{\"type\":\"object\",\"name\":\"GlyphRenderer\",\"id\":\"p22635\",\"attributes\":{\"data_source\":{\"id\":\"p22577\"},\"view\":{\"type\":\"object\",\"name\":\"CDSView\",\"id\":\"p22636\",\"attributes\":{\"filter\":{\"type\":\"object\",\"name\":\"AllIndices\",\"id\":\"p22637\"}}},\"glyph\":{\"type\":\"object\",\"name\":\"HBar\",\"id\":\"p22632\",\"attributes\":{\"y\":{\"type\":\"field\",\"field\":\"y\",\"transform\":{\"type\":\"object\",\"name\":\"Dodge\",\"id\":\"p22628\",\"attributes\":{\"value\":0.15,\"range\":{\"id\":\"p22590\"}}}},\"height\":{\"type\":\"value\",\"value\":0.25},\"right\":{\"type\":\"field\",\"field\":\"no\"},\"line_color\":{\"type\":\"value\",\"value\":\"#ff7f0e\"},\"fill_color\":{\"type\":\"value\",\"value\":\"#ff7f0e\"},\"hatch_color\":{\"type\":\"value\",\"value\":\"#ff7f0e\"}}},\"nonselection_glyph\":{\"type\":\"object\",\"name\":\"HBar\",\"id\":\"p22633\",\"attributes\":{\"y\":{\"type\":\"field\",\"field\":\"y\",\"transform\":{\"id\":\"p22628\"}},\"height\":{\"type\":\"value\",\"value\":0.25},\"right\":{\"type\":\"field\",\"field\":\"no\"},\"line_color\":{\"type\":\"value\",\"value\":\"#ff7f0e\"},\"line_alpha\":{\"type\":\"value\",\"value\":0.1},\"fill_color\":{\"type\":\"value\",\"value\":\"#ff7f0e\"},\"fill_alpha\":{\"type\":\"value\",\"value\":0.1},\"hatch_color\":{\"type\":\"value\",\"value\":\"#ff7f0e\"},\"hatch_alpha\":{\"type\":\"value\",\"value\":0.1}}},\"muted_glyph\":{\"type\":\"object\",\"name\":\"HBar\",\"id\":\"p22634\",\"attributes\":{\"y\":{\"type\":\"field\",\"field\":\"y\",\"transform\":{\"id\":\"p22628\"}},\"height\":{\"type\":\"value\",\"value\":0.25},\"right\":{\"type\":\"field\",\"field\":\"no\"},\"line_color\":{\"type\":\"value\",\"value\":\"#ff7f0e\"},\"line_alpha\":{\"type\":\"value\",\"value\":0.2},\"fill_color\":{\"type\":\"value\",\"value\":\"#ff7f0e\"},\"fill_alpha\":{\"type\":\"value\",\"value\":0.2},\"hatch_color\":{\"type\":\"value\",\"value\":\"#ff7f0e\"},\"hatch_alpha\":{\"type\":\"value\",\"value\":0.2}}}}}],\"toolbar\":{\"type\":\"object\",\"name\":\"Toolbar\",\"id\":\"p22589\",\"attributes\":{\"tools\":[{\"type\":\"object\",\"name\":\"PanTool\",\"id\":\"p22603\"},{\"type\":\"object\",\"name\":\"WheelZoomTool\",\"id\":\"p22604\",\"attributes\":{\"renderers\":\"auto\"}},{\"type\":\"object\",\"name\":\"BoxZoomTool\",\"id\":\"p22605\",\"attributes\":{\"dimensions\":\"both\",\"overlay\":{\"type\":\"object\",\"name\":\"BoxAnnotation\",\"id\":\"p22606\",\"attributes\":{\"syncable\":false,\"line_color\":\"black\",\"line_alpha\":1.0,\"line_width\":2,\"line_dash\":[4,4],\"fill_color\":\"lightgrey\",\"fill_alpha\":0.5,\"level\":\"overlay\",\"visible\":false,\"left\":{\"type\":\"number\",\"value\":\"nan\"},\"right\":{\"type\":\"number\",\"value\":\"nan\"},\"top\":{\"type\":\"number\",\"value\":\"nan\"},\"bottom\":{\"type\":\"number\",\"value\":\"nan\"},\"left_units\":\"canvas\",\"right_units\":\"canvas\",\"top_units\":\"canvas\",\"bottom_units\":\"canvas\",\"handles\":{\"type\":\"object\",\"name\":\"BoxInteractionHandles\",\"id\":\"p22612\",\"attributes\":{\"all\":{\"type\":\"object\",\"name\":\"AreaVisuals\",\"id\":\"p22611\",\"attributes\":{\"fill_color\":\"white\",\"hover_fill_color\":\"lightgray\"}}}}}}}},{\"type\":\"object\",\"name\":\"SaveTool\",\"id\":\"p22613\"},{\"type\":\"object\",\"name\":\"ResetTool\",\"id\":\"p22614\"},{\"type\":\"object\",\"name\":\"HelpTool\",\"id\":\"p22615\"}]}},\"toolbar_location\":null,\"left\":[{\"type\":\"object\",\"name\":\"CategoricalAxis\",\"id\":\"p22598\",\"attributes\":{\"ticker\":{\"type\":\"object\",\"name\":\"CategoricalTicker\",\"id\":\"p22599\"},\"formatter\":{\"type\":\"object\",\"name\":\"CategoricalTickFormatter\",\"id\":\"p22600\"},\"axis_label\":\"Family history\",\"major_label_policy\":{\"type\":\"object\",\"name\":\"AllLabels\",\"id\":\"p22601\"}}}],\"below\":[{\"type\":\"object\",\"name\":\"LinearAxis\",\"id\":\"p22593\",\"attributes\":{\"ticker\":{\"type\":\"object\",\"name\":\"BasicTicker\",\"id\":\"p22594\",\"attributes\":{\"mantissas\":[1,2,5]}},\"formatter\":{\"type\":\"object\",\"name\":\"BasicTickFormatter\",\"id\":\"p22595\"},\"axis_label\":\"Persentage (%)\",\"major_label_orientation\":0.5,\"major_label_policy\":{\"type\":\"object\",\"name\":\"AllLabels\",\"id\":\"p22596\"}}}],\"center\":[{\"type\":\"object\",\"name\":\"Grid\",\"id\":\"p22597\",\"attributes\":{\"axis\":{\"id\":\"p22593\"}}},{\"type\":\"object\",\"name\":\"Grid\",\"id\":\"p22602\",\"attributes\":{\"dimension\":1,\"axis\":{\"id\":\"p22598\"}}},{\"type\":\"object\",\"name\":\"Legend\",\"id\":\"p22626\",\"attributes\":{\"title\":\"Treatment\",\"label_text_font_size\":\"8pt\",\"items\":[{\"type\":\"object\",\"name\":\"LegendItem\",\"id\":\"p22627\",\"attributes\":{\"label\":{\"type\":\"value\",\"value\":\"Yes\"},\"renderers\":[{\"id\":\"p22623\"}]}},{\"type\":\"object\",\"name\":\"LegendItem\",\"id\":\"p22638\",\"attributes\":{\"label\":{\"type\":\"value\",\"value\":\"No\"},\"renderers\":[{\"id\":\"p22635\"}]}}]}}]}}]}};\n  const render_items = [{\"docid\":\"596ab7ad-262a-4564-a246-3be5a9de26e7\",\"roots\":{\"p22580\":\"c8df192d-a2fd-4ff3-9d18-1e6c4cd48b5f\"},\"root_ids\":[\"p22580\"]}];\n  void root.Bokeh.embed.embed_items_notebook(docs_json, render_items);\n  }\n  if (root.Bokeh !== undefined) {\n    embed_document(root);\n  } else {\n    let attempts = 0;\n    const timer = setInterval(function(root) {\n      if (root.Bokeh !== undefined) {\n        clearInterval(timer);\n        embed_document(root);\n      } else {\n        attempts++;\n        if (attempts > 100) {\n          clearInterval(timer);\n          console.log(\"Bokeh: ERROR: Unable to run BokehJS code because BokehJS library is missing\");\n        }\n      }\n    }, 10, root)\n  }\n})(window);",
      "application/vnd.bokehjs_exec.v0+json": ""
     },
     "metadata": {
      "application/vnd.bokehjs_exec.v0+json": {
       "id": "p22580"
      }
     },
     "output_type": "display_data"
    }
   ],
   "source": [
    "grouped = (\n",
    "    cleaned_df.groupby([\"family_history\", \"treatment\"]).size().unstack(fill_value=0)\n",
    ")\n",
    "grouped_percent = grouped.div(grouped.sum(axis=1), axis=0) * 100\n",
    "categories = list(grouped_percent.index)  # Yes, No\n",
    "treatments = list(grouped_percent.columns)  # Yes, No\n",
    "\n",
    "source = ColumnDataSource(\n",
    "    data=dict(\n",
    "        y=categories,\n",
    "        yes=[grouped_percent.loc[i, \"Yes\"] for i in categories],\n",
    "        no=[grouped_percent.loc[i, \"No\"] for i in categories],\n",
    "    )\n",
    ")\n",
    "\n",
    "p = figure(\n",
    "    y_range=categories,\n",
    "    height=500,\n",
    "    width=800,\n",
    "    title=\"Family history and treatment\",\n",
    "    toolbar_location=None,\n",
    ")\n",
    "\n",
    "p.hbar(\n",
    "    y=dodge(\"y\", -0.15, range=p.y_range),\n",
    "    right=\"yes\",\n",
    "    height=0.25,\n",
    "    color=\"#1f77b4\",\n",
    "    legend_label=\"Yes\",\n",
    "    source=source,\n",
    ")\n",
    "p.hbar(\n",
    "    y=dodge(\"y\", 0.15, range=p.y_range),\n",
    "    right=\"no\",\n",
    "    height=0.25,\n",
    "    color=\"#ff7f0e\",\n",
    "    legend_label=\"No\",\n",
    "    source=source,\n",
    ")\n",
    "p.x_range.start = 0\n",
    "\n",
    "p.xaxis.axis_label = \"Persentage (%)\"\n",
    "p.yaxis.axis_label = \"Family history\"\n",
    "p.xaxis.major_label_orientation = 0.5\n",
    "p.legend.title = \"Treatment\"\n",
    "p.legend.location = \"top_right\"\n",
    "p.legend.label_text_font_size = \"8pt\"\n",
    "p.title.text_font_size = \"16pt\"\n",
    "p.title.align = \"center\"\n",
    "\n",
    "show(p)"
   ]
  },
  {
   "cell_type": "markdown",
   "metadata": {},
   "source": [
    "### Question 4: Does remote vs. office work relate to treatment?\n",
    "\n",
    "**Variables used:** `remote_work`, `treatment`\n",
    "\n",
    "**Goal:**  \n",
    "To explore whether remote employees are more or less likely to seek treatment compared to office workers.\n",
    "\n",
    "**Visualization:**  \n",
    "Grouped bar chart or pie chart by remote_work status.\n",
    "\n",
    "**Insight:**  \n",
    "May show isolation or work environment influence on mental health outcomes.\n"
   ]
  },
  {
   "cell_type": "code",
   "execution_count": 848,
   "metadata": {},
   "outputs": [
    {
     "data": {
      "text/html": [
       "\n",
       "  <div id=\"f8af3fc5-b6fa-4e56-89a3-ef523e700dc2\" data-root-id=\"p22642\" style=\"display: contents;\"></div>\n"
      ]
     },
     "metadata": {},
     "output_type": "display_data"
    },
    {
     "data": {
      "application/javascript": "(function(root) {\n  function embed_document(root) {\n  const docs_json = {\"59653f14-8a37-4fbf-affb-f6c141552510\":{\"version\":\"3.7.0\",\"title\":\"Bokeh Application\",\"roots\":[{\"type\":\"object\",\"name\":\"Figure\",\"id\":\"p22642\",\"attributes\":{\"width\":800,\"height\":500,\"x_range\":{\"type\":\"object\",\"name\":\"FactorRange\",\"id\":\"p22652\",\"attributes\":{\"factors\":[\"On-site\",\"Remote\"]}},\"y_range\":{\"type\":\"object\",\"name\":\"DataRange1d\",\"id\":\"p22644\"},\"x_scale\":{\"type\":\"object\",\"name\":\"CategoricalScale\",\"id\":\"p22653\"},\"y_scale\":{\"type\":\"object\",\"name\":\"LinearScale\",\"id\":\"p22654\"},\"title\":{\"type\":\"object\",\"name\":\"Title\",\"id\":\"p22645\",\"attributes\":{\"text\":\"Remote VS On-site\",\"text_font_size\":\"16pt\",\"align\":\"center\"}},\"outline_line_color\":null,\"renderers\":[{\"type\":\"object\",\"name\":\"GlyphRenderer\",\"id\":\"p22688\",\"attributes\":{\"name\":\"Yes\",\"data_source\":{\"type\":\"object\",\"name\":\"ColumnDataSource\",\"id\":\"p22639\",\"attributes\":{\"selected\":{\"type\":\"object\",\"name\":\"Selection\",\"id\":\"p22640\",\"attributes\":{\"indices\":[],\"line_indices\":[]}},\"selection_policy\":{\"type\":\"object\",\"name\":\"UnionRenderers\",\"id\":\"p22641\"},\"data\":{\"type\":\"map\",\"entries\":[[\"work_type\",[\"On-site\",\"Remote\"]],[\"Yes\",[336,174]],[\"No\",[356,159]],[\"Yes_y\",[168.0,87.0]],[\"No_y\",[514.0,253.5]],[\"Yes_pct_str\",[\"48.6%\",\"52.3%\"]],[\"No_pct_str\",[\"51.4%\",\"47.7%\"]]]}}},\"view\":{\"type\":\"object\",\"name\":\"CDSView\",\"id\":\"p22689\",\"attributes\":{\"filter\":{\"type\":\"object\",\"name\":\"AllIndices\",\"id\":\"p22690\"}}},\"glyph\":{\"type\":\"object\",\"name\":\"VBar\",\"id\":\"p22685\",\"attributes\":{\"x\":{\"type\":\"field\",\"field\":\"work_type\"},\"width\":{\"type\":\"value\",\"value\":0.7},\"bottom\":{\"type\":\"expr\",\"expr\":{\"type\":\"object\",\"name\":\"Stack\",\"id\":\"p22678\",\"attributes\":{\"fields\":[]}}},\"top\":{\"type\":\"expr\",\"expr\":{\"type\":\"object\",\"name\":\"Stack\",\"id\":\"p22679\",\"attributes\":{\"fields\":[\"Yes\"]}}},\"line_color\":{\"type\":\"value\",\"value\":\"#5cdac5\"},\"fill_color\":{\"type\":\"value\",\"value\":\"#5cdac5\"},\"hatch_color\":{\"type\":\"value\",\"value\":\"#5cdac5\"}}},\"nonselection_glyph\":{\"type\":\"object\",\"name\":\"VBar\",\"id\":\"p22686\",\"attributes\":{\"x\":{\"type\":\"field\",\"field\":\"work_type\"},\"width\":{\"type\":\"value\",\"value\":0.7},\"bottom\":{\"type\":\"expr\",\"expr\":{\"id\":\"p22678\"}},\"top\":{\"type\":\"expr\",\"expr\":{\"id\":\"p22679\"}},\"line_color\":{\"type\":\"value\",\"value\":\"#5cdac5\"},\"line_alpha\":{\"type\":\"value\",\"value\":0.1},\"fill_color\":{\"type\":\"value\",\"value\":\"#5cdac5\"},\"fill_alpha\":{\"type\":\"value\",\"value\":0.1},\"hatch_color\":{\"type\":\"value\",\"value\":\"#5cdac5\"},\"hatch_alpha\":{\"type\":\"value\",\"value\":0.1}}},\"muted_glyph\":{\"type\":\"object\",\"name\":\"VBar\",\"id\":\"p22687\",\"attributes\":{\"x\":{\"type\":\"field\",\"field\":\"work_type\"},\"width\":{\"type\":\"value\",\"value\":0.7},\"bottom\":{\"type\":\"expr\",\"expr\":{\"id\":\"p22678\"}},\"top\":{\"type\":\"expr\",\"expr\":{\"id\":\"p22679\"}},\"line_color\":{\"type\":\"value\",\"value\":\"#5cdac5\"},\"line_alpha\":{\"type\":\"value\",\"value\":0.2},\"fill_color\":{\"type\":\"value\",\"value\":\"#5cdac5\"},\"fill_alpha\":{\"type\":\"value\",\"value\":0.2},\"hatch_color\":{\"type\":\"value\",\"value\":\"#5cdac5\"},\"hatch_alpha\":{\"type\":\"value\",\"value\":0.2}}}}},{\"type\":\"object\",\"name\":\"GlyphRenderer\",\"id\":\"p22699\",\"attributes\":{\"name\":\"No\",\"data_source\":{\"id\":\"p22639\"},\"view\":{\"type\":\"object\",\"name\":\"CDSView\",\"id\":\"p22700\",\"attributes\":{\"filter\":{\"type\":\"object\",\"name\":\"AllIndices\",\"id\":\"p22701\"}}},\"glyph\":{\"type\":\"object\",\"name\":\"VBar\",\"id\":\"p22696\",\"attributes\":{\"x\":{\"type\":\"field\",\"field\":\"work_type\"},\"width\":{\"type\":\"value\",\"value\":0.7},\"bottom\":{\"type\":\"expr\",\"expr\":{\"type\":\"object\",\"name\":\"Stack\",\"id\":\"p22680\",\"attributes\":{\"fields\":[\"Yes\"]}}},\"top\":{\"type\":\"expr\",\"expr\":{\"type\":\"object\",\"name\":\"Stack\",\"id\":\"p22681\",\"attributes\":{\"fields\":[\"Yes\",\"No\"]}}},\"line_color\":{\"type\":\"value\",\"value\":\"#256676\"},\"fill_color\":{\"type\":\"value\",\"value\":\"#256676\"},\"hatch_color\":{\"type\":\"value\",\"value\":\"#256676\"}}},\"nonselection_glyph\":{\"type\":\"object\",\"name\":\"VBar\",\"id\":\"p22697\",\"attributes\":{\"x\":{\"type\":\"field\",\"field\":\"work_type\"},\"width\":{\"type\":\"value\",\"value\":0.7},\"bottom\":{\"type\":\"expr\",\"expr\":{\"id\":\"p22680\"}},\"top\":{\"type\":\"expr\",\"expr\":{\"id\":\"p22681\"}},\"line_color\":{\"type\":\"value\",\"value\":\"#256676\"},\"line_alpha\":{\"type\":\"value\",\"value\":0.1},\"fill_color\":{\"type\":\"value\",\"value\":\"#256676\"},\"fill_alpha\":{\"type\":\"value\",\"value\":0.1},\"hatch_color\":{\"type\":\"value\",\"value\":\"#256676\"},\"hatch_alpha\":{\"type\":\"value\",\"value\":0.1}}},\"muted_glyph\":{\"type\":\"object\",\"name\":\"VBar\",\"id\":\"p22698\",\"attributes\":{\"x\":{\"type\":\"field\",\"field\":\"work_type\"},\"width\":{\"type\":\"value\",\"value\":0.7},\"bottom\":{\"type\":\"expr\",\"expr\":{\"id\":\"p22680\"}},\"top\":{\"type\":\"expr\",\"expr\":{\"id\":\"p22681\"}},\"line_color\":{\"type\":\"value\",\"value\":\"#256676\"},\"line_alpha\":{\"type\":\"value\",\"value\":0.2},\"fill_color\":{\"type\":\"value\",\"value\":\"#256676\"},\"fill_alpha\":{\"type\":\"value\",\"value\":0.2},\"hatch_color\":{\"type\":\"value\",\"value\":\"#256676\"},\"hatch_alpha\":{\"type\":\"value\",\"value\":0.2}}}}}],\"toolbar\":{\"type\":\"object\",\"name\":\"Toolbar\",\"id\":\"p22651\",\"attributes\":{\"tools\":[{\"type\":\"object\",\"name\":\"PanTool\",\"id\":\"p22665\"},{\"type\":\"object\",\"name\":\"WheelZoomTool\",\"id\":\"p22666\",\"attributes\":{\"renderers\":\"auto\"}},{\"type\":\"object\",\"name\":\"BoxZoomTool\",\"id\":\"p22667\",\"attributes\":{\"dimensions\":\"both\",\"overlay\":{\"type\":\"object\",\"name\":\"BoxAnnotation\",\"id\":\"p22668\",\"attributes\":{\"syncable\":false,\"line_color\":\"black\",\"line_alpha\":1.0,\"line_width\":2,\"line_dash\":[4,4],\"fill_color\":\"lightgrey\",\"fill_alpha\":0.5,\"level\":\"overlay\",\"visible\":false,\"left\":{\"type\":\"number\",\"value\":\"nan\"},\"right\":{\"type\":\"number\",\"value\":\"nan\"},\"top\":{\"type\":\"number\",\"value\":\"nan\"},\"bottom\":{\"type\":\"number\",\"value\":\"nan\"},\"left_units\":\"canvas\",\"right_units\":\"canvas\",\"top_units\":\"canvas\",\"bottom_units\":\"canvas\",\"handles\":{\"type\":\"object\",\"name\":\"BoxInteractionHandles\",\"id\":\"p22674\",\"attributes\":{\"all\":{\"type\":\"object\",\"name\":\"AreaVisuals\",\"id\":\"p22673\",\"attributes\":{\"fill_color\":\"white\",\"hover_fill_color\":\"lightgray\"}}}}}}}},{\"type\":\"object\",\"name\":\"SaveTool\",\"id\":\"p22675\"},{\"type\":\"object\",\"name\":\"ResetTool\",\"id\":\"p22676\"},{\"type\":\"object\",\"name\":\"HelpTool\",\"id\":\"p22677\"}]}},\"left\":[{\"type\":\"object\",\"name\":\"LinearAxis\",\"id\":\"p22660\",\"attributes\":{\"ticker\":{\"type\":\"object\",\"name\":\"BasicTicker\",\"id\":\"p22661\",\"attributes\":{\"mantissas\":[1,2,5]}},\"formatter\":{\"type\":\"object\",\"name\":\"BasicTickFormatter\",\"id\":\"p22662\"},\"axis_label\":\"Number of Respondents\",\"major_label_policy\":{\"type\":\"object\",\"name\":\"AllLabels\",\"id\":\"p22663\"}}}],\"below\":[{\"type\":\"object\",\"name\":\"CategoricalAxis\",\"id\":\"p22655\",\"attributes\":{\"ticker\":{\"type\":\"object\",\"name\":\"CategoricalTicker\",\"id\":\"p22656\"},\"formatter\":{\"type\":\"object\",\"name\":\"CategoricalTickFormatter\",\"id\":\"p22657\"},\"axis_label\":\"Work Type\",\"major_label_orientation\":1,\"major_label_policy\":{\"type\":\"object\",\"name\":\"AllLabels\",\"id\":\"p22658\"}}}],\"center\":[{\"type\":\"object\",\"name\":\"Grid\",\"id\":\"p22659\",\"attributes\":{\"axis\":{\"id\":\"p22655\"},\"grid_line_alpha\":0.25}},{\"type\":\"object\",\"name\":\"Grid\",\"id\":\"p22664\",\"attributes\":{\"dimension\":1,\"axis\":{\"id\":\"p22660\"},\"grid_line_alpha\":0.25}},{\"type\":\"object\",\"name\":\"Legend\",\"id\":\"p22691\",\"attributes\":{\"title\":\"Treatment\",\"items\":[{\"type\":\"object\",\"name\":\"LegendItem\",\"id\":\"p22692\",\"attributes\":{\"label\":{\"type\":\"value\",\"value\":\"Yes\"},\"renderers\":[{\"id\":\"p22688\"}]}},{\"type\":\"object\",\"name\":\"LegendItem\",\"id\":\"p22702\",\"attributes\":{\"label\":{\"type\":\"value\",\"value\":\"No\"},\"renderers\":[{\"id\":\"p22699\"}]}}]}},{\"type\":\"object\",\"name\":\"LabelSet\",\"id\":\"p22703\",\"attributes\":{\"source\":{\"id\":\"p22639\"},\"x\":{\"type\":\"field\",\"field\":\"work_type\"},\"y\":{\"type\":\"field\",\"field\":\"Yes_y\"},\"text\":{\"type\":\"field\",\"field\":\"Yes_pct_str\"},\"text_color\":{\"type\":\"value\",\"value\":\"black\"},\"text_font_size\":{\"type\":\"value\",\"value\":\"12pt\"},\"text_align\":{\"type\":\"value\",\"value\":\"center\"},\"text_baseline\":{\"type\":\"value\",\"value\":\"middle\"}}},{\"type\":\"object\",\"name\":\"LabelSet\",\"id\":\"p22707\",\"attributes\":{\"source\":{\"id\":\"p22639\"},\"x\":{\"type\":\"field\",\"field\":\"work_type\"},\"y\":{\"type\":\"field\",\"field\":\"No_y\"},\"text\":{\"type\":\"field\",\"field\":\"No_pct_str\"},\"text_color\":{\"type\":\"value\",\"value\":\"white\"},\"text_font_size\":{\"type\":\"value\",\"value\":\"12pt\"},\"text_align\":{\"type\":\"value\",\"value\":\"center\"},\"text_baseline\":{\"type\":\"value\",\"value\":\"middle\"}}}],\"background_fill_color\":\"#fafafa\"}}]}};\n  const render_items = [{\"docid\":\"59653f14-8a37-4fbf-affb-f6c141552510\",\"roots\":{\"p22642\":\"f8af3fc5-b6fa-4e56-89a3-ef523e700dc2\"},\"root_ids\":[\"p22642\"]}];\n  void root.Bokeh.embed.embed_items_notebook(docs_json, render_items);\n  }\n  if (root.Bokeh !== undefined) {\n    embed_document(root);\n  } else {\n    let attempts = 0;\n    const timer = setInterval(function(root) {\n      if (root.Bokeh !== undefined) {\n        clearInterval(timer);\n        embed_document(root);\n      } else {\n        attempts++;\n        if (attempts > 100) {\n          clearInterval(timer);\n          console.log(\"Bokeh: ERROR: Unable to run BokehJS code because BokehJS library is missing\");\n        }\n      }\n    }, 10, root)\n  }\n})(window);",
      "application/vnd.bokehjs_exec.v0+json": ""
     },
     "metadata": {
      "application/vnd.bokehjs_exec.v0+json": {
       "id": "p22642"
      }
     },
     "output_type": "display_data"
    }
   ],
   "source": [
    "cleaned_df[\"remote_work\"] = cleaned_df[\"remote_work\"].map(\n",
    "    {\"Yes\": \"Remote\", \"No\": \"On-site\"}\n",
    ")\n",
    "\n",
    "grouped = (\n",
    "    cleaned_df.groupby([\"remote_work\", \"treatment\"], observed=True)\n",
    "    .size()\n",
    "    .unstack(fill_value=0)\n",
    ")\n",
    "\n",
    "grouped[\"total\"] = grouped[\"Yes\"] + grouped[\"No\"]\n",
    "grouped[\"Yes_pct\"] = (grouped[\"Yes\"] / grouped[\"total\"] * 100).round(1)\n",
    "grouped[\"No_pct\"] = (grouped[\"No\"] / grouped[\"total\"] * 100).round(1)\n",
    "\n",
    "grouped[\"Yes_pct_str\"] = grouped[\"Yes_pct\"].astype(str) + \"%\"\n",
    "grouped[\"No_pct_str\"] = grouped[\"No_pct\"].astype(str) + \"%\"\n",
    "\n",
    "grouped[\"Yes_y\"] = grouped[\"Yes\"] / 2\n",
    "grouped[\"No_y\"] = grouped[\"Yes\"] + (grouped[\"No\"] / 2)\n",
    "\n",
    "source = ColumnDataSource(\n",
    "    data=dict(\n",
    "        work_type=grouped.index.tolist(),\n",
    "        Yes=grouped[\"Yes\"].tolist(),\n",
    "        No=grouped[\"No\"].tolist(),\n",
    "        Yes_y=grouped[\"Yes_y\"].tolist(),\n",
    "        No_y=grouped[\"No_y\"].tolist(),\n",
    "        Yes_pct_str=grouped[\"Yes_pct_str\"].tolist(),\n",
    "        No_pct_str=grouped[\"No_pct_str\"].tolist(),\n",
    "    )\n",
    ")\n",
    "\n",
    "categories = [\"Yes\", \"No\"]\n",
    "colors = [\"#5cdac5\", \"#256676\"]\n",
    "\n",
    "p2 = figure(\n",
    "    x_range=grouped.index.tolist(),\n",
    "    height=500,\n",
    "    width=800,\n",
    "    title=\"Remote VS On-site\",\n",
    "    background_fill_color=\"#fafafa\",\n",
    ")\n",
    "\n",
    "p2.vbar_stack(\n",
    "    stackers=categories,\n",
    "    x=\"work_type\",\n",
    "    width=0.7,\n",
    "    color=colors,\n",
    "    source=source,\n",
    "    legend_label=categories,\n",
    ")\n",
    "\n",
    "yes_labels = LabelSet(\n",
    "    x=\"work_type\",\n",
    "    y=\"Yes_y\",\n",
    "    text=\"Yes_pct_str\",\n",
    "    source=source,\n",
    "    text_align=\"center\",\n",
    "    text_baseline=\"middle\",\n",
    "    text_font_size=\"12pt\",\n",
    "    text_color=\"black\",\n",
    ")\n",
    "\n",
    "no_labels = LabelSet(\n",
    "    x=\"work_type\",\n",
    "    y=\"No_y\",\n",
    "    text=\"No_pct_str\",\n",
    "    source=source,\n",
    "    text_align=\"center\",\n",
    "    text_baseline=\"middle\",\n",
    "    text_font_size=\"12pt\",\n",
    "    text_color=\"white\",\n",
    ")\n",
    "\n",
    "p2.add_layout(yes_labels)\n",
    "p2.add_layout(no_labels)\n",
    "\n",
    "p2.title.text_font_size = \"16pt\"\n",
    "p2.title.align = \"center\"\n",
    "p2.xaxis.axis_label = \"Work Type\"\n",
    "p2.yaxis.axis_label = \"Number of Respondents\"\n",
    "p2.xaxis.major_label_orientation = 1\n",
    "p2.outline_line_color = None\n",
    "p2.grid.grid_line_alpha = 0.25\n",
    "p2.legend.title = \"Treatment\"\n",
    "p2.legend.location = \"top_right\"\n",
    "\n",
    "show(p2)"
   ]
  },
  {
   "cell_type": "markdown",
   "metadata": {},
   "source": [
    "### Question 5: Does company size influence mental health?\n",
    "\n",
    "**Variables used:** `company_size`, `treatment`\n",
    "\n",
    "**Goal:**  \n",
    "To analyze whether employees in small, medium, or large companies are more likely to seek mental health treatment.\n",
    "\n",
    "**Visualization:**  \n",
    "Stacked or grouped bar chart.\n",
    "\n",
    "**Insight:**  \n",
    "Can reveal how organizational scale affects support and pressure.\n"
   ]
  },
  {
   "cell_type": "code",
   "execution_count": 849,
   "metadata": {},
   "outputs": [
    {
     "data": {
      "text/html": [
       "\n",
       "  <div id=\"d02ce83b-b4e2-4acf-b207-da4e94d11e22\" data-root-id=\"p22714\" style=\"display: contents;\"></div>\n"
      ]
     },
     "metadata": {},
     "output_type": "display_data"
    },
    {
     "data": {
      "application/javascript": "(function(root) {\n  function embed_document(root) {\n  const docs_json = {\"91fc90d8-5033-44f2-a835-cd2843094499\":{\"version\":\"3.7.0\",\"title\":\"Bokeh Application\",\"roots\":[{\"type\":\"object\",\"name\":\"Figure\",\"id\":\"p22714\",\"attributes\":{\"width\":800,\"height\":500,\"x_range\":{\"type\":\"object\",\"name\":\"FactorRange\",\"id\":\"p22724\",\"attributes\":{\"factors\":[\"Large\",\"Medium\",\"Small\"]}},\"y_range\":{\"type\":\"object\",\"name\":\"DataRange1d\",\"id\":\"p22716\"},\"x_scale\":{\"type\":\"object\",\"name\":\"CategoricalScale\",\"id\":\"p22725\"},\"y_scale\":{\"type\":\"object\",\"name\":\"LinearScale\",\"id\":\"p22726\"},\"title\":{\"type\":\"object\",\"name\":\"Title\",\"id\":\"p22717\",\"attributes\":{\"text\":\"Treatment Seeking by Company Size\",\"text_font_size\":\"16pt\",\"align\":\"center\"}},\"outline_line_color\":null,\"renderers\":[{\"type\":\"object\",\"name\":\"GlyphRenderer\",\"id\":\"p22760\",\"attributes\":{\"name\":\"Yes\",\"data_source\":{\"type\":\"object\",\"name\":\"ColumnDataSource\",\"id\":\"p22711\",\"attributes\":{\"selected\":{\"type\":\"object\",\"name\":\"Selection\",\"id\":\"p22712\",\"attributes\":{\"indices\":[],\"line_indices\":[]}},\"selection_policy\":{\"type\":\"object\",\"name\":\"UnionRenderers\",\"id\":\"p22713\"},\"data\":{\"type\":\"map\",\"entries\":[[\"company_size\",[\"Large\",\"Medium\",\"Small\"]],[\"Yes\",[117,196,197]],[\"No\",[116,181,218]],[\"Yes_y\",[58.5,98.0,98.5]],[\"No_y\",[175.0,286.5,306.0]],[\"Yes_pct_str\",[\"50.2%\",\"52.0%\",\"47.5%\"]],[\"No_pct_str\",[\"49.8%\",\"48.0%\",\"52.5%\"]]]}}},\"view\":{\"type\":\"object\",\"name\":\"CDSView\",\"id\":\"p22761\",\"attributes\":{\"filter\":{\"type\":\"object\",\"name\":\"AllIndices\",\"id\":\"p22762\"}}},\"glyph\":{\"type\":\"object\",\"name\":\"VBar\",\"id\":\"p22757\",\"attributes\":{\"x\":{\"type\":\"field\",\"field\":\"company_size\"},\"width\":{\"type\":\"value\",\"value\":0.5},\"bottom\":{\"type\":\"expr\",\"expr\":{\"type\":\"object\",\"name\":\"Stack\",\"id\":\"p22750\",\"attributes\":{\"fields\":[]}}},\"top\":{\"type\":\"expr\",\"expr\":{\"type\":\"object\",\"name\":\"Stack\",\"id\":\"p22751\",\"attributes\":{\"fields\":[\"Yes\"]}}},\"line_color\":{\"type\":\"value\",\"value\":\"#718dbf\"},\"fill_color\":{\"type\":\"value\",\"value\":\"#718dbf\"},\"hatch_color\":{\"type\":\"value\",\"value\":\"#718dbf\"}}},\"nonselection_glyph\":{\"type\":\"object\",\"name\":\"VBar\",\"id\":\"p22758\",\"attributes\":{\"x\":{\"type\":\"field\",\"field\":\"company_size\"},\"width\":{\"type\":\"value\",\"value\":0.5},\"bottom\":{\"type\":\"expr\",\"expr\":{\"id\":\"p22750\"}},\"top\":{\"type\":\"expr\",\"expr\":{\"id\":\"p22751\"}},\"line_color\":{\"type\":\"value\",\"value\":\"#718dbf\"},\"line_alpha\":{\"type\":\"value\",\"value\":0.1},\"fill_color\":{\"type\":\"value\",\"value\":\"#718dbf\"},\"fill_alpha\":{\"type\":\"value\",\"value\":0.1},\"hatch_color\":{\"type\":\"value\",\"value\":\"#718dbf\"},\"hatch_alpha\":{\"type\":\"value\",\"value\":0.1}}},\"muted_glyph\":{\"type\":\"object\",\"name\":\"VBar\",\"id\":\"p22759\",\"attributes\":{\"x\":{\"type\":\"field\",\"field\":\"company_size\"},\"width\":{\"type\":\"value\",\"value\":0.5},\"bottom\":{\"type\":\"expr\",\"expr\":{\"id\":\"p22750\"}},\"top\":{\"type\":\"expr\",\"expr\":{\"id\":\"p22751\"}},\"line_color\":{\"type\":\"value\",\"value\":\"#718dbf\"},\"line_alpha\":{\"type\":\"value\",\"value\":0.2},\"fill_color\":{\"type\":\"value\",\"value\":\"#718dbf\"},\"fill_alpha\":{\"type\":\"value\",\"value\":0.2},\"hatch_color\":{\"type\":\"value\",\"value\":\"#718dbf\"},\"hatch_alpha\":{\"type\":\"value\",\"value\":0.2}}}}},{\"type\":\"object\",\"name\":\"GlyphRenderer\",\"id\":\"p22771\",\"attributes\":{\"name\":\"No\",\"data_source\":{\"id\":\"p22711\"},\"view\":{\"type\":\"object\",\"name\":\"CDSView\",\"id\":\"p22772\",\"attributes\":{\"filter\":{\"type\":\"object\",\"name\":\"AllIndices\",\"id\":\"p22773\"}}},\"glyph\":{\"type\":\"object\",\"name\":\"VBar\",\"id\":\"p22768\",\"attributes\":{\"x\":{\"type\":\"field\",\"field\":\"company_size\"},\"width\":{\"type\":\"value\",\"value\":0.5},\"bottom\":{\"type\":\"expr\",\"expr\":{\"type\":\"object\",\"name\":\"Stack\",\"id\":\"p22752\",\"attributes\":{\"fields\":[\"Yes\"]}}},\"top\":{\"type\":\"expr\",\"expr\":{\"type\":\"object\",\"name\":\"Stack\",\"id\":\"p22753\",\"attributes\":{\"fields\":[\"Yes\",\"No\"]}}},\"line_color\":{\"type\":\"value\",\"value\":\"#e84d60\"},\"fill_color\":{\"type\":\"value\",\"value\":\"#e84d60\"},\"hatch_color\":{\"type\":\"value\",\"value\":\"#e84d60\"}}},\"nonselection_glyph\":{\"type\":\"object\",\"name\":\"VBar\",\"id\":\"p22769\",\"attributes\":{\"x\":{\"type\":\"field\",\"field\":\"company_size\"},\"width\":{\"type\":\"value\",\"value\":0.5},\"bottom\":{\"type\":\"expr\",\"expr\":{\"id\":\"p22752\"}},\"top\":{\"type\":\"expr\",\"expr\":{\"id\":\"p22753\"}},\"line_color\":{\"type\":\"value\",\"value\":\"#e84d60\"},\"line_alpha\":{\"type\":\"value\",\"value\":0.1},\"fill_color\":{\"type\":\"value\",\"value\":\"#e84d60\"},\"fill_alpha\":{\"type\":\"value\",\"value\":0.1},\"hatch_color\":{\"type\":\"value\",\"value\":\"#e84d60\"},\"hatch_alpha\":{\"type\":\"value\",\"value\":0.1}}},\"muted_glyph\":{\"type\":\"object\",\"name\":\"VBar\",\"id\":\"p22770\",\"attributes\":{\"x\":{\"type\":\"field\",\"field\":\"company_size\"},\"width\":{\"type\":\"value\",\"value\":0.5},\"bottom\":{\"type\":\"expr\",\"expr\":{\"id\":\"p22752\"}},\"top\":{\"type\":\"expr\",\"expr\":{\"id\":\"p22753\"}},\"line_color\":{\"type\":\"value\",\"value\":\"#e84d60\"},\"line_alpha\":{\"type\":\"value\",\"value\":0.2},\"fill_color\":{\"type\":\"value\",\"value\":\"#e84d60\"},\"fill_alpha\":{\"type\":\"value\",\"value\":0.2},\"hatch_color\":{\"type\":\"value\",\"value\":\"#e84d60\"},\"hatch_alpha\":{\"type\":\"value\",\"value\":0.2}}}}}],\"toolbar\":{\"type\":\"object\",\"name\":\"Toolbar\",\"id\":\"p22723\",\"attributes\":{\"tools\":[{\"type\":\"object\",\"name\":\"PanTool\",\"id\":\"p22737\"},{\"type\":\"object\",\"name\":\"WheelZoomTool\",\"id\":\"p22738\",\"attributes\":{\"renderers\":\"auto\"}},{\"type\":\"object\",\"name\":\"BoxZoomTool\",\"id\":\"p22739\",\"attributes\":{\"dimensions\":\"both\",\"overlay\":{\"type\":\"object\",\"name\":\"BoxAnnotation\",\"id\":\"p22740\",\"attributes\":{\"syncable\":false,\"line_color\":\"black\",\"line_alpha\":1.0,\"line_width\":2,\"line_dash\":[4,4],\"fill_color\":\"lightgrey\",\"fill_alpha\":0.5,\"level\":\"overlay\",\"visible\":false,\"left\":{\"type\":\"number\",\"value\":\"nan\"},\"right\":{\"type\":\"number\",\"value\":\"nan\"},\"top\":{\"type\":\"number\",\"value\":\"nan\"},\"bottom\":{\"type\":\"number\",\"value\":\"nan\"},\"left_units\":\"canvas\",\"right_units\":\"canvas\",\"top_units\":\"canvas\",\"bottom_units\":\"canvas\",\"handles\":{\"type\":\"object\",\"name\":\"BoxInteractionHandles\",\"id\":\"p22746\",\"attributes\":{\"all\":{\"type\":\"object\",\"name\":\"AreaVisuals\",\"id\":\"p22745\",\"attributes\":{\"fill_color\":\"white\",\"hover_fill_color\":\"lightgray\"}}}}}}}},{\"type\":\"object\",\"name\":\"SaveTool\",\"id\":\"p22747\"},{\"type\":\"object\",\"name\":\"ResetTool\",\"id\":\"p22748\"},{\"type\":\"object\",\"name\":\"HelpTool\",\"id\":\"p22749\"}]}},\"left\":[{\"type\":\"object\",\"name\":\"LinearAxis\",\"id\":\"p22732\",\"attributes\":{\"ticker\":{\"type\":\"object\",\"name\":\"BasicTicker\",\"id\":\"p22733\",\"attributes\":{\"mantissas\":[1,2,5]}},\"formatter\":{\"type\":\"object\",\"name\":\"BasicTickFormatter\",\"id\":\"p22734\"},\"axis_label\":\"Number of Respondents\",\"major_label_policy\":{\"type\":\"object\",\"name\":\"AllLabels\",\"id\":\"p22735\"}}}],\"below\":[{\"type\":\"object\",\"name\":\"CategoricalAxis\",\"id\":\"p22727\",\"attributes\":{\"ticker\":{\"type\":\"object\",\"name\":\"CategoricalTicker\",\"id\":\"p22728\"},\"formatter\":{\"type\":\"object\",\"name\":\"CategoricalTickFormatter\",\"id\":\"p22729\"},\"axis_label\":\"Company Size\",\"major_label_orientation\":1,\"major_label_policy\":{\"type\":\"object\",\"name\":\"AllLabels\",\"id\":\"p22730\"}}}],\"center\":[{\"type\":\"object\",\"name\":\"Grid\",\"id\":\"p22731\",\"attributes\":{\"axis\":{\"id\":\"p22727\"},\"grid_line_alpha\":0.25}},{\"type\":\"object\",\"name\":\"Grid\",\"id\":\"p22736\",\"attributes\":{\"dimension\":1,\"axis\":{\"id\":\"p22732\"},\"grid_line_alpha\":0.25}},{\"type\":\"object\",\"name\":\"Legend\",\"id\":\"p22763\",\"attributes\":{\"location\":\"top_left\",\"title\":\"Treatment\",\"items\":[{\"type\":\"object\",\"name\":\"LegendItem\",\"id\":\"p22764\",\"attributes\":{\"label\":{\"type\":\"value\",\"value\":\"Yes\"},\"renderers\":[{\"id\":\"p22760\"}]}},{\"type\":\"object\",\"name\":\"LegendItem\",\"id\":\"p22774\",\"attributes\":{\"label\":{\"type\":\"value\",\"value\":\"No\"},\"renderers\":[{\"id\":\"p22771\"}]}}]}},{\"type\":\"object\",\"name\":\"LabelSet\",\"id\":\"p22775\",\"attributes\":{\"source\":{\"id\":\"p22711\"},\"x\":{\"type\":\"field\",\"field\":\"company_size\"},\"y\":{\"type\":\"field\",\"field\":\"Yes_y\"},\"text\":{\"type\":\"field\",\"field\":\"Yes_pct_str\"},\"text_color\":{\"type\":\"value\",\"value\":\"black\"},\"text_font_size\":{\"type\":\"value\",\"value\":\"11pt\"},\"text_align\":{\"type\":\"value\",\"value\":\"center\"},\"text_baseline\":{\"type\":\"value\",\"value\":\"middle\"}}},{\"type\":\"object\",\"name\":\"LabelSet\",\"id\":\"p22779\",\"attributes\":{\"source\":{\"id\":\"p22711\"},\"x\":{\"type\":\"field\",\"field\":\"company_size\"},\"y\":{\"type\":\"field\",\"field\":\"No_y\"},\"text\":{\"type\":\"field\",\"field\":\"No_pct_str\"},\"text_color\":{\"type\":\"value\",\"value\":\"white\"},\"text_font_size\":{\"type\":\"value\",\"value\":\"11pt\"},\"text_align\":{\"type\":\"value\",\"value\":\"center\"},\"text_baseline\":{\"type\":\"value\",\"value\":\"middle\"}}}],\"background_fill_color\":\"#fafafa\"}}]}};\n  const render_items = [{\"docid\":\"91fc90d8-5033-44f2-a835-cd2843094499\",\"roots\":{\"p22714\":\"d02ce83b-b4e2-4acf-b207-da4e94d11e22\"},\"root_ids\":[\"p22714\"]}];\n  void root.Bokeh.embed.embed_items_notebook(docs_json, render_items);\n  }\n  if (root.Bokeh !== undefined) {\n    embed_document(root);\n  } else {\n    let attempts = 0;\n    const timer = setInterval(function(root) {\n      if (root.Bokeh !== undefined) {\n        clearInterval(timer);\n        embed_document(root);\n      } else {\n        attempts++;\n        if (attempts > 100) {\n          clearInterval(timer);\n          console.log(\"Bokeh: ERROR: Unable to run BokehJS code because BokehJS library is missing\");\n        }\n      }\n    }, 10, root)\n  }\n})(window);",
      "application/vnd.bokehjs_exec.v0+json": ""
     },
     "metadata": {
      "application/vnd.bokehjs_exec.v0+json": {
       "id": "p22714"
      }
     },
     "output_type": "display_data"
    }
   ],
   "source": [
    "from bokeh.plotting import figure, show\n",
    "from bokeh.models import ColumnDataSource, LabelSet\n",
    "\n",
    "grouped = (\n",
    "    cleaned_df.groupby([\"company_size\", \"treatment\"], observed=True)\n",
    "    .size()\n",
    "    .unstack(fill_value=0)\n",
    ")\n",
    "\n",
    "grouped[\"total\"] = grouped[\"Yes\"] + grouped[\"No\"]\n",
    "grouped[\"Yes_pct\"] = (grouped[\"Yes\"] / grouped[\"total\"] * 100).round(1)\n",
    "grouped[\"No_pct\"] = (grouped[\"No\"] / grouped[\"total\"] * 100).round(1)\n",
    "\n",
    "grouped[\"Yes_pct_str\"] = grouped[\"Yes_pct\"].astype(str) + \"%\"\n",
    "grouped[\"No_pct_str\"] = grouped[\"No_pct\"].astype(str) + \"%\"\n",
    "\n",
    "grouped[\"Yes_y\"] = grouped[\"Yes\"] / 2\n",
    "grouped[\"No_y\"] = grouped[\"Yes\"] + (grouped[\"No\"] / 2)\n",
    "\n",
    "source = ColumnDataSource(\n",
    "    data=dict(\n",
    "        company_size=grouped.index.tolist(),\n",
    "        Yes=grouped[\"Yes\"].tolist(),\n",
    "        No=grouped[\"No\"].tolist(),\n",
    "        Yes_y=grouped[\"Yes_y\"].tolist(),\n",
    "        No_y=grouped[\"No_y\"].tolist(),\n",
    "        Yes_pct_str=grouped[\"Yes_pct_str\"].tolist(),\n",
    "        No_pct_str=grouped[\"No_pct_str\"].tolist(),\n",
    "    )\n",
    ")\n",
    "\n",
    "categories = [\"Yes\", \"No\"]\n",
    "colors = [\"#718dbf\", \"#e84d60\"]\n",
    "\n",
    "p2 = figure(\n",
    "    x_range=grouped.index.tolist(),\n",
    "    height=500,\n",
    "    width=800,\n",
    "    title=\"Treatment Seeking by Company Size\",\n",
    "    background_fill_color=\"#fafafa\",\n",
    ")\n",
    "\n",
    "p2.vbar_stack(\n",
    "    stackers=categories,\n",
    "    x=\"company_size\",\n",
    "    width=0.5,\n",
    "    color=colors,\n",
    "    source=source,\n",
    "    legend_label=categories,\n",
    ")\n",
    "\n",
    "yes_labels = LabelSet(\n",
    "    x=\"company_size\",\n",
    "    y=\"Yes_y\",\n",
    "    text=\"Yes_pct_str\",\n",
    "    source=source,\n",
    "    text_align=\"center\",\n",
    "    text_baseline=\"middle\",\n",
    "    text_font_size=\"11pt\",\n",
    "    text_color=\"black\",\n",
    ")\n",
    "\n",
    "no_labels = LabelSet(\n",
    "    x=\"company_size\",\n",
    "    y=\"No_y\",\n",
    "    text=\"No_pct_str\",\n",
    "    source=source,\n",
    "    text_align=\"center\",\n",
    "    text_baseline=\"middle\",\n",
    "    text_font_size=\"11pt\",\n",
    "    text_color=\"white\",\n",
    ")\n",
    "\n",
    "p2.add_layout(yes_labels)\n",
    "p2.add_layout(no_labels)\n",
    "\n",
    "p2.title.text_font_size = \"16pt\"\n",
    "p2.title.align = \"center\"\n",
    "p2.xaxis.axis_label = \"Company Size\"\n",
    "p2.yaxis.axis_label = \"Number of Respondents\"\n",
    "p2.xaxis.major_label_orientation = 1\n",
    "p2.outline_line_color = None\n",
    "p2.grid.grid_line_alpha = 0.25\n",
    "p2.legend.title = \"Treatment\"\n",
    "p2.legend.location = \"top_left\"\n",
    "\n",
    "show(p2)"
   ]
  },
  {
   "cell_type": "markdown",
   "metadata": {},
   "source": [
    "### Question 6: Are employees afraid to talk to employers about mental health?\n",
    "\n",
    "**Variables used:** `mental_health_consequence`, `treatment`\n",
    "\n",
    "**Goal:**  \n",
    "To determine how comfortable employees feel discussing mental health with their employers.\n",
    "\n",
    "**Visualization:**  \n",
    "Pie chart or grouped bar chart (e.g., Yes/No/Maybe).\n",
    "\n",
    "**Insight:**  \n",
    "Highlights stigma and fear of consequences in the workplace.\n"
   ]
  },
  {
   "cell_type": "code",
   "execution_count": 850,
   "metadata": {},
   "outputs": [
    {
     "data": {
      "text/html": [
       "\n",
       "  <div id=\"b237be42-df22-455c-be8f-c67e4e47ba13\" data-root-id=\"p22786\" style=\"display: contents;\"></div>\n"
      ]
     },
     "metadata": {},
     "output_type": "display_data"
    },
    {
     "data": {
      "application/javascript": "(function(root) {\n  function embed_document(root) {\n  const docs_json = {\"5644f4b1-bb12-4cda-8b01-a2d7d3ca2dbe\":{\"version\":\"3.7.0\",\"title\":\"Bokeh Application\",\"roots\":[{\"type\":\"object\",\"name\":\"Figure\",\"id\":\"p22786\",\"attributes\":{\"width\":800,\"height\":400,\"x_range\":{\"type\":\"object\",\"name\":\"Range1d\",\"id\":\"p22796\",\"attributes\":{\"start\":-1}},\"y_range\":{\"type\":\"object\",\"name\":\"DataRange1d\",\"id\":\"p22788\"},\"x_scale\":{\"type\":\"object\",\"name\":\"LinearScale\",\"id\":\"p22797\"},\"y_scale\":{\"type\":\"object\",\"name\":\"LinearScale\",\"id\":\"p22798\"},\"title\":{\"type\":\"object\",\"name\":\"Title\",\"id\":\"p22789\",\"attributes\":{\"text\":\"Are employees afraid to talk to their employer about problems?\",\"text_font_size\":\"16pt\",\"align\":\"center\"}},\"renderers\":[{\"type\":\"object\",\"name\":\"GlyphRenderer\",\"id\":\"p22815\",\"attributes\":{\"data_source\":{\"type\":\"object\",\"name\":\"ColumnDataSource\",\"id\":\"p22783\",\"attributes\":{\"selected\":{\"type\":\"object\",\"name\":\"Selection\",\"id\":\"p22784\",\"attributes\":{\"indices\":[],\"line_indices\":[]}},\"selection_policy\":{\"type\":\"object\",\"name\":\"UnionRenderers\",\"id\":\"p22785\"},\"data\":{\"type\":\"map\",\"entries\":[[\"index\",{\"type\":\"ndarray\",\"array\":{\"type\":\"bytes\",\"data\":\"AAAAAAEAAAACAAAA\"},\"shape\":[3],\"dtype\":\"int32\",\"order\":\"little\"}],[\"consequence\",{\"type\":\"ndarray\",\"array\":[\"No\",\"Maybe\",\"Yes\"],\"shape\":[3],\"dtype\":\"object\",\"order\":\"little\"}],[\"value\",{\"type\":\"ndarray\",\"array\":{\"type\":\"bytes\",\"data\":\"4XwMzsfgREBL1K5E7UpCQKldidqVqDVA\"},\"shape\":[3],\"dtype\":\"float64\",\"order\":\"little\"}],[\"angle\",{\"type\":\"ndarray\",\"array\":{\"type\":\"bytes\",\"data\":\"V249zij9BEAki4+hymMCQGvBdnEGxvU/\"},\"shape\":[3],\"dtype\":\"float64\",\"order\":\"little\"}],[\"start_angle\",{\"type\":\"ndarray\",\"array\":{\"type\":\"bytes\",\"data\":\"AAAAAAAAAABXbj3OKP0EQL585rd5sBNA\"},\"shape\":[3],\"dtype\":\"float64\",\"order\":\"little\"}],[\"end_angle\",{\"type\":\"ndarray\",\"array\":{\"type\":\"bytes\",\"data\":\"V249zij9BEC+fOa3ebATQBktRFT7IRlA\"},\"shape\":[3],\"dtype\":\"float64\",\"order\":\"little\"}],[\"color\",{\"type\":\"ndarray\",\"array\":[\"#a8dadc\",\"#adb5bd\",\"#e63946\"],\"shape\":[3],\"dtype\":\"object\",\"order\":\"little\"}],[\"theta\",{\"type\":\"ndarray\",\"array\":{\"type\":\"bytes\",\"data\":\"V249zij99D/pMwUfDi8OQOtUFYY6aRZA\"},\"shape\":[3],\"dtype\":\"float64\",\"order\":\"little\"}],[\"x\",{\"type\":\"ndarray\",\"array\":{\"type\":\"bytes\",\"data\":\"+YtK5QJksD8N7NmIrdTJv+V1oj6y38g/\"},\"shape\":[3],\"dtype\":\"float64\",\"order\":\"little\"}],[\"y\",{\"type\":\"ndarray\",\"array\":{\"type\":\"bytes\",\"data\":\"y6JNSNnd8z9cPiGqJEfrP3CWGPOO9+o/\"},\"shape\":[3],\"dtype\":\"float64\",\"order\":\"little\"}],[\"label\",{\"type\":\"ndarray\",\"array\":[\"41.8%\",\"36.6%\",\"21.7%\"],\"shape\":[3],\"dtype\":\"object\",\"order\":\"little\"}]]}}},\"view\":{\"type\":\"object\",\"name\":\"CDSView\",\"id\":\"p22816\",\"attributes\":{\"filter\":{\"type\":\"object\",\"name\":\"AllIndices\",\"id\":\"p22817\"}}},\"glyph\":{\"type\":\"object\",\"name\":\"Wedge\",\"id\":\"p22812\",\"attributes\":{\"x\":{\"type\":\"value\",\"value\":0},\"y\":{\"type\":\"value\",\"value\":1},\"radius\":{\"type\":\"value\",\"value\":0.4},\"start_angle\":{\"type\":\"field\",\"field\":\"start_angle\"},\"end_angle\":{\"type\":\"field\",\"field\":\"end_angle\"},\"line_color\":{\"type\":\"value\",\"value\":\"white\"},\"fill_color\":{\"type\":\"field\",\"field\":\"color\"}}},\"nonselection_glyph\":{\"type\":\"object\",\"name\":\"Wedge\",\"id\":\"p22813\",\"attributes\":{\"x\":{\"type\":\"value\",\"value\":0},\"y\":{\"type\":\"value\",\"value\":1},\"radius\":{\"type\":\"value\",\"value\":0.4},\"start_angle\":{\"type\":\"field\",\"field\":\"start_angle\"},\"end_angle\":{\"type\":\"field\",\"field\":\"end_angle\"},\"line_color\":{\"type\":\"value\",\"value\":\"white\"},\"line_alpha\":{\"type\":\"value\",\"value\":0.1},\"fill_color\":{\"type\":\"field\",\"field\":\"color\"},\"fill_alpha\":{\"type\":\"value\",\"value\":0.1},\"hatch_alpha\":{\"type\":\"value\",\"value\":0.1}}},\"muted_glyph\":{\"type\":\"object\",\"name\":\"Wedge\",\"id\":\"p22814\",\"attributes\":{\"x\":{\"type\":\"value\",\"value\":0},\"y\":{\"type\":\"value\",\"value\":1},\"radius\":{\"type\":\"value\",\"value\":0.4},\"start_angle\":{\"type\":\"field\",\"field\":\"start_angle\"},\"end_angle\":{\"type\":\"field\",\"field\":\"end_angle\"},\"line_color\":{\"type\":\"value\",\"value\":\"white\"},\"line_alpha\":{\"type\":\"value\",\"value\":0.2},\"fill_color\":{\"type\":\"field\",\"field\":\"color\"},\"fill_alpha\":{\"type\":\"value\",\"value\":0.2},\"hatch_alpha\":{\"type\":\"value\",\"value\":0.2}}}}}],\"toolbar\":{\"type\":\"object\",\"name\":\"Toolbar\",\"id\":\"p22795\"},\"toolbar_location\":null,\"left\":[{\"type\":\"object\",\"name\":\"LinearAxis\",\"id\":\"p22804\",\"attributes\":{\"visible\":false,\"ticker\":{\"type\":\"object\",\"name\":\"BasicTicker\",\"id\":\"p22805\",\"attributes\":{\"mantissas\":[1,2,5]}},\"formatter\":{\"type\":\"object\",\"name\":\"BasicTickFormatter\",\"id\":\"p22806\"},\"major_label_policy\":{\"type\":\"object\",\"name\":\"AllLabels\",\"id\":\"p22807\"}}}],\"below\":[{\"type\":\"object\",\"name\":\"LinearAxis\",\"id\":\"p22799\",\"attributes\":{\"visible\":false,\"ticker\":{\"type\":\"object\",\"name\":\"BasicTicker\",\"id\":\"p22800\",\"attributes\":{\"mantissas\":[1,2,5]}},\"formatter\":{\"type\":\"object\",\"name\":\"BasicTickFormatter\",\"id\":\"p22801\"},\"major_label_policy\":{\"type\":\"object\",\"name\":\"AllLabels\",\"id\":\"p22802\"}}}],\"center\":[{\"type\":\"object\",\"name\":\"Grid\",\"id\":\"p22803\",\"attributes\":{\"visible\":false,\"axis\":{\"id\":\"p22799\"}}},{\"type\":\"object\",\"name\":\"Grid\",\"id\":\"p22808\",\"attributes\":{\"visible\":false,\"dimension\":1,\"axis\":{\"id\":\"p22804\"}}},{\"type\":\"object\",\"name\":\"Legend\",\"id\":\"p22818\",\"attributes\":{\"label_text_font_size\":\"9pt\",\"items\":[{\"type\":\"object\",\"name\":\"LegendItem\",\"id\":\"p22819\",\"attributes\":{\"label\":{\"type\":\"field\",\"field\":\"consequence\"},\"renderers\":[{\"id\":\"p22815\"}]}}]}},{\"type\":\"object\",\"name\":\"LabelSet\",\"id\":\"p22820\",\"attributes\":{\"source\":{\"id\":\"p22783\"},\"x\":{\"type\":\"field\",\"field\":\"x\"},\"y\":{\"type\":\"field\",\"field\":\"y\"},\"text\":{\"type\":\"field\",\"field\":\"label\"},\"text_font_size\":{\"type\":\"value\",\"value\":\"10pt\"},\"text_align\":{\"type\":\"value\",\"value\":\"center\"}}}]}}]}};\n  const render_items = [{\"docid\":\"5644f4b1-bb12-4cda-8b01-a2d7d3ca2dbe\",\"roots\":{\"p22786\":\"b237be42-df22-455c-be8f-c67e4e47ba13\"},\"root_ids\":[\"p22786\"]}];\n  void root.Bokeh.embed.embed_items_notebook(docs_json, render_items);\n  }\n  if (root.Bokeh !== undefined) {\n    embed_document(root);\n  } else {\n    let attempts = 0;\n    const timer = setInterval(function(root) {\n      if (root.Bokeh !== undefined) {\n        clearInterval(timer);\n        embed_document(root);\n      } else {\n        attempts++;\n        if (attempts > 100) {\n          clearInterval(timer);\n          console.log(\"Bokeh: ERROR: Unable to run BokehJS code because BokehJS library is missing\");\n        }\n      }\n    }, 10, root)\n  }\n})(window);",
      "application/vnd.bokehjs_exec.v0+json": ""
     },
     "metadata": {
      "application/vnd.bokehjs_exec.v0+json": {
       "id": "p22786"
      }
     },
     "output_type": "display_data"
    }
   ],
   "source": [
    "counts = cleaned_df[\"mental_health_consequence\"].value_counts()\n",
    "percent = counts / counts.sum() * 100\n",
    "\n",
    "data = pd.DataFrame({\"consequence\": percent.index, \"value\": percent.values})\n",
    "\n",
    "data[\"angle\"] = data[\"value\"] / data[\"value\"].sum() * 2 * np.pi\n",
    "data[\"start_angle\"] = np.cumsum([0] + list(data[\"angle\"][:-1]))\n",
    "data[\"end_angle\"] = np.cumsum(data[\"angle\"])\n",
    "\n",
    "color_map = {\"Yes\": \"#e63946\", \"No\": \"#a8dadc\", \"Maybe\": \"#adb5bd\"}\n",
    "data[\"color\"] = data[\"consequence\"].map(color_map)\n",
    "\n",
    "angles = np.cumsum([0] + list(data[\"angle\"][:-1]))\n",
    "data[\"theta\"] = angles + data[\"angle\"] / 2\n",
    "data[\"x\"] = 0.25 * np.cos(data[\"theta\"])\n",
    "data[\"y\"] = 1 + 0.25 * np.sin(data[\"theta\"])\n",
    "\n",
    "data[\"label\"] = data.apply(lambda row: f\"{row['value']:.1f}%\", axis=1)\n",
    "source = ColumnDataSource(data)\n",
    "\n",
    "p = figure(\n",
    "    width=800,\n",
    "    height=400,\n",
    "    title=\"Are employees afraid to talk to their employer about problems?\",\n",
    "    toolbar_location=None,\n",
    "    tools=\"\",\n",
    "    x_range=(-1, 1),\n",
    ")\n",
    "\n",
    "p.wedge(\n",
    "    x=0,\n",
    "    y=1,\n",
    "    radius=0.4,\n",
    "    start_angle=\"start_angle\",\n",
    "    end_angle=\"end_angle\",\n",
    "    line_color=\"white\",\n",
    "    fill_color=\"color\",\n",
    "    legend_field=\"consequence\",\n",
    "    source=source,\n",
    ")\n",
    "\n",
    "labels = LabelSet(\n",
    "    x=\"x\",\n",
    "    y=\"y\",\n",
    "    text=\"label\",\n",
    "    source=source,\n",
    "    text_font_size=\"10pt\",\n",
    "    text_align=\"center\",\n",
    ")\n",
    "\n",
    "p.add_layout(labels)\n",
    "p.axis.visible = False\n",
    "p.grid.visible = False\n",
    "p.legend.location = \"top_right\"\n",
    "p.legend.label_text_font_size = \"9pt\"\n",
    "p.title.text_font_size = \"16pt\"\n",
    "p.title.align = \"center\"\n",
    "show(p)"
   ]
  },
  {
   "cell_type": "markdown",
   "metadata": {},
   "source": [
    "### Question 7: How do companies support their employees?\n",
    "\n",
    "**Variables used:** `wellness_program`, `seek_help`, `care_options`\n",
    "\n",
    "**Goal:**  \n",
    "To explore the availability and awareness of company-provided mental health support programs.\n",
    "\n",
    "**Visualization:**  \n",
    "Grouped horizontal bar chart.\n",
    "\n",
    "**Insight:**  \n",
    "Reveals gaps in employee awareness and actual support availability.\n"
   ]
  },
  {
   "cell_type": "code",
   "execution_count": 851,
   "metadata": {},
   "outputs": [
    {
     "data": {
      "text/html": [
       "\n",
       "  <div id=\"ff179795-d184-44d1-b739-6b29ca1862b2\" data-root-id=\"p22835\" style=\"display: contents;\"></div>\n"
      ]
     },
     "metadata": {},
     "output_type": "display_data"
    },
    {
     "data": {
      "application/javascript": "(function(root) {\n  function embed_document(root) {\n  const docs_json = {\"9999125f-8585-4727-a024-32e242fbd272\":{\"version\":\"3.7.0\",\"title\":\"Bokeh Application\",\"roots\":[{\"type\":\"object\",\"name\":\"Figure\",\"id\":\"p22835\",\"attributes\":{\"width\":800,\"height\":450,\"x_range\":{\"type\":\"object\",\"name\":\"DataRange1d\",\"id\":\"p22837\",\"attributes\":{\"start\":0}},\"y_range\":{\"type\":\"object\",\"name\":\"FactorRange\",\"id\":\"p22845\",\"attributes\":{\"factors\":[\"Yes\",\"No\",\"Don't know\"]}},\"x_scale\":{\"type\":\"object\",\"name\":\"LinearScale\",\"id\":\"p22846\"},\"y_scale\":{\"type\":\"object\",\"name\":\"CategoricalScale\",\"id\":\"p22847\"},\"title\":{\"type\":\"object\",\"name\":\"Title\",\"id\":\"p22838\",\"attributes\":{\"text\":\"Company-Provided Mental Health Support\",\"text_font_size\":\"16pt\",\"align\":\"center\"}},\"renderers\":[{\"type\":\"object\",\"name\":\"GlyphRenderer\",\"id\":\"p22878\",\"attributes\":{\"data_source\":{\"type\":\"object\",\"name\":\"ColumnDataSource\",\"id\":\"p22832\",\"attributes\":{\"selected\":{\"type\":\"object\",\"name\":\"Selection\",\"id\":\"p22833\",\"attributes\":{\"indices\":[],\"line_indices\":[]}},\"selection_policy\":{\"type\":\"object\",\"name\":\"UnionRenderers\",\"id\":\"p22834\"},\"data\":{\"type\":\"map\",\"entries\":[[\"responses\",[\"Yes\",\"No\",\"Don't know\"]],[\"wellness\",[15.609756097560975,68.6829268292683,15.707317073170731]],[\"seek\",[17.46341463414634,53.65853658536586,28.878048780487802]],[\"care\",[34.243902439024396,40.390243902439025,0]]]}}},\"view\":{\"type\":\"object\",\"name\":\"CDSView\",\"id\":\"p22879\",\"attributes\":{\"filter\":{\"type\":\"object\",\"name\":\"AllIndices\",\"id\":\"p22880\"}}},\"glyph\":{\"type\":\"object\",\"name\":\"HBar\",\"id\":\"p22875\",\"attributes\":{\"y\":{\"type\":\"field\",\"field\":\"responses\",\"transform\":{\"type\":\"object\",\"name\":\"Dodge\",\"id\":\"p22871\",\"attributes\":{\"value\":-0.25,\"range\":{\"id\":\"p22845\"}}}},\"height\":{\"type\":\"value\",\"value\":0.2},\"right\":{\"type\":\"field\",\"field\":\"wellness\"},\"line_color\":{\"type\":\"value\",\"value\":\"#718dbf\"},\"fill_color\":{\"type\":\"value\",\"value\":\"#718dbf\"},\"hatch_color\":{\"type\":\"value\",\"value\":\"#718dbf\"}}},\"nonselection_glyph\":{\"type\":\"object\",\"name\":\"HBar\",\"id\":\"p22876\",\"attributes\":{\"y\":{\"type\":\"field\",\"field\":\"responses\",\"transform\":{\"id\":\"p22871\"}},\"height\":{\"type\":\"value\",\"value\":0.2},\"right\":{\"type\":\"field\",\"field\":\"wellness\"},\"line_color\":{\"type\":\"value\",\"value\":\"#718dbf\"},\"line_alpha\":{\"type\":\"value\",\"value\":0.1},\"fill_color\":{\"type\":\"value\",\"value\":\"#718dbf\"},\"fill_alpha\":{\"type\":\"value\",\"value\":0.1},\"hatch_color\":{\"type\":\"value\",\"value\":\"#718dbf\"},\"hatch_alpha\":{\"type\":\"value\",\"value\":0.1}}},\"muted_glyph\":{\"type\":\"object\",\"name\":\"HBar\",\"id\":\"p22877\",\"attributes\":{\"y\":{\"type\":\"field\",\"field\":\"responses\",\"transform\":{\"id\":\"p22871\"}},\"height\":{\"type\":\"value\",\"value\":0.2},\"right\":{\"type\":\"field\",\"field\":\"wellness\"},\"line_color\":{\"type\":\"value\",\"value\":\"#718dbf\"},\"line_alpha\":{\"type\":\"value\",\"value\":0.2},\"fill_color\":{\"type\":\"value\",\"value\":\"#718dbf\"},\"fill_alpha\":{\"type\":\"value\",\"value\":0.2},\"hatch_color\":{\"type\":\"value\",\"value\":\"#718dbf\"},\"hatch_alpha\":{\"type\":\"value\",\"value\":0.2}}}}},{\"type\":\"object\",\"name\":\"GlyphRenderer\",\"id\":\"p22890\",\"attributes\":{\"data_source\":{\"id\":\"p22832\"},\"view\":{\"type\":\"object\",\"name\":\"CDSView\",\"id\":\"p22891\",\"attributes\":{\"filter\":{\"type\":\"object\",\"name\":\"AllIndices\",\"id\":\"p22892\"}}},\"glyph\":{\"type\":\"object\",\"name\":\"HBar\",\"id\":\"p22887\",\"attributes\":{\"y\":{\"type\":\"field\",\"field\":\"responses\",\"transform\":{\"type\":\"object\",\"name\":\"Dodge\",\"id\":\"p22883\",\"attributes\":{\"range\":{\"id\":\"p22845\"}}}},\"height\":{\"type\":\"value\",\"value\":0.2},\"right\":{\"type\":\"field\",\"field\":\"seek\"},\"line_color\":{\"type\":\"value\",\"value\":\"#5cdac5\"},\"fill_color\":{\"type\":\"value\",\"value\":\"#5cdac5\"},\"hatch_color\":{\"type\":\"value\",\"value\":\"#5cdac5\"}}},\"nonselection_glyph\":{\"type\":\"object\",\"name\":\"HBar\",\"id\":\"p22888\",\"attributes\":{\"y\":{\"type\":\"field\",\"field\":\"responses\",\"transform\":{\"id\":\"p22883\"}},\"height\":{\"type\":\"value\",\"value\":0.2},\"right\":{\"type\":\"field\",\"field\":\"seek\"},\"line_color\":{\"type\":\"value\",\"value\":\"#5cdac5\"},\"line_alpha\":{\"type\":\"value\",\"value\":0.1},\"fill_color\":{\"type\":\"value\",\"value\":\"#5cdac5\"},\"fill_alpha\":{\"type\":\"value\",\"value\":0.1},\"hatch_color\":{\"type\":\"value\",\"value\":\"#5cdac5\"},\"hatch_alpha\":{\"type\":\"value\",\"value\":0.1}}},\"muted_glyph\":{\"type\":\"object\",\"name\":\"HBar\",\"id\":\"p22889\",\"attributes\":{\"y\":{\"type\":\"field\",\"field\":\"responses\",\"transform\":{\"id\":\"p22883\"}},\"height\":{\"type\":\"value\",\"value\":0.2},\"right\":{\"type\":\"field\",\"field\":\"seek\"},\"line_color\":{\"type\":\"value\",\"value\":\"#5cdac5\"},\"line_alpha\":{\"type\":\"value\",\"value\":0.2},\"fill_color\":{\"type\":\"value\",\"value\":\"#5cdac5\"},\"fill_alpha\":{\"type\":\"value\",\"value\":0.2},\"hatch_color\":{\"type\":\"value\",\"value\":\"#5cdac5\"},\"hatch_alpha\":{\"type\":\"value\",\"value\":0.2}}}}},{\"type\":\"object\",\"name\":\"GlyphRenderer\",\"id\":\"p22901\",\"attributes\":{\"data_source\":{\"id\":\"p22832\"},\"view\":{\"type\":\"object\",\"name\":\"CDSView\",\"id\":\"p22902\",\"attributes\":{\"filter\":{\"type\":\"object\",\"name\":\"AllIndices\",\"id\":\"p22903\"}}},\"glyph\":{\"type\":\"object\",\"name\":\"HBar\",\"id\":\"p22898\",\"attributes\":{\"y\":{\"type\":\"field\",\"field\":\"responses\",\"transform\":{\"type\":\"object\",\"name\":\"Dodge\",\"id\":\"p22894\",\"attributes\":{\"value\":0.25,\"range\":{\"id\":\"p22845\"}}}},\"height\":{\"type\":\"value\",\"value\":0.2},\"right\":{\"type\":\"field\",\"field\":\"care\"},\"line_color\":{\"type\":\"value\",\"value\":\"#e84d60\"},\"fill_color\":{\"type\":\"value\",\"value\":\"#e84d60\"},\"hatch_color\":{\"type\":\"value\",\"value\":\"#e84d60\"}}},\"nonselection_glyph\":{\"type\":\"object\",\"name\":\"HBar\",\"id\":\"p22899\",\"attributes\":{\"y\":{\"type\":\"field\",\"field\":\"responses\",\"transform\":{\"id\":\"p22894\"}},\"height\":{\"type\":\"value\",\"value\":0.2},\"right\":{\"type\":\"field\",\"field\":\"care\"},\"line_color\":{\"type\":\"value\",\"value\":\"#e84d60\"},\"line_alpha\":{\"type\":\"value\",\"value\":0.1},\"fill_color\":{\"type\":\"value\",\"value\":\"#e84d60\"},\"fill_alpha\":{\"type\":\"value\",\"value\":0.1},\"hatch_color\":{\"type\":\"value\",\"value\":\"#e84d60\"},\"hatch_alpha\":{\"type\":\"value\",\"value\":0.1}}},\"muted_glyph\":{\"type\":\"object\",\"name\":\"HBar\",\"id\":\"p22900\",\"attributes\":{\"y\":{\"type\":\"field\",\"field\":\"responses\",\"transform\":{\"id\":\"p22894\"}},\"height\":{\"type\":\"value\",\"value\":0.2},\"right\":{\"type\":\"field\",\"field\":\"care\"},\"line_color\":{\"type\":\"value\",\"value\":\"#e84d60\"},\"line_alpha\":{\"type\":\"value\",\"value\":0.2},\"fill_color\":{\"type\":\"value\",\"value\":\"#e84d60\"},\"fill_alpha\":{\"type\":\"value\",\"value\":0.2},\"hatch_color\":{\"type\":\"value\",\"value\":\"#e84d60\"},\"hatch_alpha\":{\"type\":\"value\",\"value\":0.2}}}}}],\"toolbar\":{\"type\":\"object\",\"name\":\"Toolbar\",\"id\":\"p22844\",\"attributes\":{\"tools\":[{\"type\":\"object\",\"name\":\"PanTool\",\"id\":\"p22858\"},{\"type\":\"object\",\"name\":\"WheelZoomTool\",\"id\":\"p22859\",\"attributes\":{\"renderers\":\"auto\"}},{\"type\":\"object\",\"name\":\"BoxZoomTool\",\"id\":\"p22860\",\"attributes\":{\"dimensions\":\"both\",\"overlay\":{\"type\":\"object\",\"name\":\"BoxAnnotation\",\"id\":\"p22861\",\"attributes\":{\"syncable\":false,\"line_color\":\"black\",\"line_alpha\":1.0,\"line_width\":2,\"line_dash\":[4,4],\"fill_color\":\"lightgrey\",\"fill_alpha\":0.5,\"level\":\"overlay\",\"visible\":false,\"left\":{\"type\":\"number\",\"value\":\"nan\"},\"right\":{\"type\":\"number\",\"value\":\"nan\"},\"top\":{\"type\":\"number\",\"value\":\"nan\"},\"bottom\":{\"type\":\"number\",\"value\":\"nan\"},\"left_units\":\"canvas\",\"right_units\":\"canvas\",\"top_units\":\"canvas\",\"bottom_units\":\"canvas\",\"handles\":{\"type\":\"object\",\"name\":\"BoxInteractionHandles\",\"id\":\"p22867\",\"attributes\":{\"all\":{\"type\":\"object\",\"name\":\"AreaVisuals\",\"id\":\"p22866\",\"attributes\":{\"fill_color\":\"white\",\"hover_fill_color\":\"lightgray\"}}}}}}}},{\"type\":\"object\",\"name\":\"SaveTool\",\"id\":\"p22868\"},{\"type\":\"object\",\"name\":\"ResetTool\",\"id\":\"p22869\"},{\"type\":\"object\",\"name\":\"HelpTool\",\"id\":\"p22870\"}]}},\"toolbar_location\":null,\"left\":[{\"type\":\"object\",\"name\":\"CategoricalAxis\",\"id\":\"p22853\",\"attributes\":{\"ticker\":{\"type\":\"object\",\"name\":\"CategoricalTicker\",\"id\":\"p22854\"},\"formatter\":{\"type\":\"object\",\"name\":\"CategoricalTickFormatter\",\"id\":\"p22855\"},\"axis_label\":\"Availability\",\"major_label_policy\":{\"type\":\"object\",\"name\":\"AllLabels\",\"id\":\"p22856\"}}}],\"below\":[{\"type\":\"object\",\"name\":\"LinearAxis\",\"id\":\"p22848\",\"attributes\":{\"ticker\":{\"type\":\"object\",\"name\":\"BasicTicker\",\"id\":\"p22849\",\"attributes\":{\"mantissas\":[1,2,5]}},\"formatter\":{\"type\":\"object\",\"name\":\"BasicTickFormatter\",\"id\":\"p22850\"},\"axis_label\":\"Percentage (%)\",\"major_label_policy\":{\"type\":\"object\",\"name\":\"AllLabels\",\"id\":\"p22851\"}}}],\"center\":[{\"type\":\"object\",\"name\":\"Grid\",\"id\":\"p22852\",\"attributes\":{\"axis\":{\"id\":\"p22848\"}}},{\"type\":\"object\",\"name\":\"Grid\",\"id\":\"p22857\",\"attributes\":{\"dimension\":1,\"axis\":{\"id\":\"p22853\"},\"grid_line_color\":null}},{\"type\":\"object\",\"name\":\"Legend\",\"id\":\"p22881\",\"attributes\":{\"label_text_font_size\":\"9pt\",\"items\":[{\"type\":\"object\",\"name\":\"LegendItem\",\"id\":\"p22882\",\"attributes\":{\"label\":{\"type\":\"value\",\"value\":\"Wellness Program\"},\"renderers\":[{\"id\":\"p22878\"}]}},{\"type\":\"object\",\"name\":\"LegendItem\",\"id\":\"p22893\",\"attributes\":{\"label\":{\"type\":\"value\",\"value\":\"Seek Help Resources\"},\"renderers\":[{\"id\":\"p22890\"}]}},{\"type\":\"object\",\"name\":\"LegendItem\",\"id\":\"p22904\",\"attributes\":{\"label\":{\"type\":\"value\",\"value\":\"Care Options\"},\"renderers\":[{\"id\":\"p22901\"}]}}]}}]}}]}};\n  const render_items = [{\"docid\":\"9999125f-8585-4727-a024-32e242fbd272\",\"roots\":{\"p22835\":\"ff179795-d184-44d1-b739-6b29ca1862b2\"},\"root_ids\":[\"p22835\"]}];\n  void root.Bokeh.embed.embed_items_notebook(docs_json, render_items);\n  }\n  if (root.Bokeh !== undefined) {\n    embed_document(root);\n  } else {\n    let attempts = 0;\n    const timer = setInterval(function(root) {\n      if (root.Bokeh !== undefined) {\n        clearInterval(timer);\n        embed_document(root);\n      } else {\n        attempts++;\n        if (attempts > 100) {\n          clearInterval(timer);\n          console.log(\"Bokeh: ERROR: Unable to run BokehJS code because BokehJS library is missing\");\n        }\n      }\n    }, 10, root)\n  }\n})(window);",
      "application/vnd.bokehjs_exec.v0+json": ""
     },
     "metadata": {
      "application/vnd.bokehjs_exec.v0+json": {
       "id": "p22835"
      }
     },
     "output_type": "display_data"
    }
   ],
   "source": [
    "cols = [\"wellness_program\", \"seek_help\", \"care_options\"]\n",
    "valid_responses = [\"Yes\", \"No\", \"Don't know\"]\n",
    "data = {}\n",
    "for col in cols:\n",
    "    counts = cleaned_df[col].value_counts(normalize=True) * 100\n",
    "    for response in valid_responses:\n",
    "        key = f\"{col}_{response}\"\n",
    "        data[key] = counts.get(response, 0)\n",
    "\n",
    "source = ColumnDataSource(\n",
    "    data=dict(\n",
    "        responses=valid_responses,\n",
    "        wellness=[data[f\"wellness_program_{r}\"] for r in valid_responses],\n",
    "        seek=[data[f\"seek_help_{r}\"] for r in valid_responses],\n",
    "        care=[data[f\"care_options_{r}\"] for r in valid_responses],\n",
    "    )\n",
    ")\n",
    "p = figure(\n",
    "    y_range=valid_responses,\n",
    "    height=450,\n",
    "    width=800,\n",
    "    title=\"Company-Provided Mental Health Support\",\n",
    "    toolbar_location=None,\n",
    ")\n",
    "p.hbar(\n",
    "    y=dodge(\"responses\", -0.25, range=p.y_range),\n",
    "    right=\"wellness\",\n",
    "    height=0.2,\n",
    "    source=source,\n",
    "    color=\"#718dbf\",\n",
    "    legend_label=\"Wellness Program\",\n",
    ")\n",
    "p.hbar(\n",
    "    y=dodge(\"responses\", 0.0, range=p.y_range),\n",
    "    right=\"seek\",\n",
    "    height=0.2,\n",
    "    source=source,\n",
    "    color=\"#5cdac5\",\n",
    "    legend_label=\"Seek Help Resources\",\n",
    ")\n",
    "p.hbar(\n",
    "    y=dodge(\"responses\", 0.25, range=p.y_range),\n",
    "    right=\"care\",\n",
    "    height=0.2,\n",
    "    source=source,\n",
    "    color=\"#e84d60\",\n",
    "    legend_label=\"Care Options\",\n",
    ")\n",
    "p.x_range.start = 0\n",
    "p.ygrid.grid_line_color = None\n",
    "p.xaxis.axis_label = \"Percentage (%)\"\n",
    "p.yaxis.axis_label = \"Availability\"\n",
    "p.legend.location = \"top_right\"\n",
    "p.legend.label_text_font_size = \"9pt\"\n",
    "p.title.text_font_size = \"16pt\"\n",
    "p.title.align = \"center\"\n",
    "show(p)"
   ]
  },
  {
   "cell_type": "markdown",
   "metadata": {},
   "source": [
    "## Final Conclusions\n",
    "\n",
    "Based on the analysis of mental health survey data in the tech industry, we can draw the following conclusions:\n",
    "\n",
    "### General Observations:\n",
    "\n",
    "- Mental health concerns are **very common** in tech. Nearly **50% of respondents have received treatment**.\n",
    "- There is a **strong correlation between family history** of mental illness and an individual's likelihood of seeking help.\n",
    "- Many employees are **afraid to discuss mental health issues** with their employers, with about **one-third expecting negative consequences**.\n",
    "- **Self-employed individuals** appear **less likely to seek treatment**, possibly due to a lack of organizational support.\n",
    "\n",
    "### Company Support:\n",
    "\n",
    "- Support from companies is **not consistently available or clearly communicated**.\n",
    "- A significant percentage of employees **do not know** whether support programs exist.\n",
    "- This suggests a need for **improved awareness** and communication about available mental health resources.\n",
    "\n",
    "---\n",
    "\n",
    "## Final Thoughts\n",
    "\n",
    "The data shows that **mental health is a critical issue** in the tech industry.  \n",
    "There is a clear need for:\n",
    "\n",
    "- **Open company culture**\n",
    "- **Better access to mental health resources**\n",
    "- **Reduction of stigma** around discussing mental health\n",
    "\n",
    "Companies that prioritize mental well-being can build **healthier, more productive teams**.\n"
   ]
  }
 ],
 "metadata": {
  "kernelspec": {
   "display_name": "myenv",
   "language": "python",
   "name": "python3"
  },
  "language_info": {
   "codemirror_mode": {
    "name": "ipython",
    "version": 3
   },
   "file_extension": ".py",
   "mimetype": "text/x-python",
   "name": "python",
   "nbconvert_exporter": "python",
   "pygments_lexer": "ipython3",
   "version": "3.13.1"
  }
 },
 "nbformat": 4,
 "nbformat_minor": 2
}
