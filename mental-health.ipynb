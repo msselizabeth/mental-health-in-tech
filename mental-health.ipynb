{
 "cells": [
  {
   "cell_type": "markdown",
   "metadata": {},
   "source": [
    "# Capstone Project: Mental Health in the Tech Industry"
   ]
  },
  {
   "cell_type": "markdown",
   "metadata": {},
   "source": [
    "## Problem Statement\n",
    "Mental health is a critical issue in the tech industry, where stress, high workloads, and remote work conditions can significantly impact employees.\n",
    "This study examines the state of mental health among tech professionals, focusing on how various factors (remote work, employer support, fear of consequences) influence employees' well-being.\n",
    "\n",
    "**Key Questions for Analysis:**\n",
    "1. How common are mental health disorders among tech workers?\n",
    "2. Does a family history of mental illness increase the likelihood of seeking treatment?\n",
    "3. Does remote work (remote_work) have a positive or negative impact on mental health?\n",
    "4. How do employers support employees? Is employer-provided support (benefits, seek_help, anonymity) linked to seeking treatment?\n",
    "5. Are employees afraid of negative consequences for discussing mental health at work (mental_health_consequence)?\n"
   ]
  },
  {
   "cell_type": "markdown",
   "metadata": {},
   "source": [
    "## Import data\n",
    "Importing data from Kagglehub using kagglehub package for Python."
   ]
  },
  {
   "cell_type": "code",
   "execution_count": null,
   "metadata": {},
   "outputs": [],
   "source": [
    "import kagglehub\n",
    "# Download data\n",
    "path = kagglehub.dataset_download(\"osmi/mental-health-in-tech-survey\")\n",
    "# Check data path\n",
    "print(\"Path to dataset files:\", path)"
   ]
  },
  {
   "cell_type": "markdown",
   "metadata": {},
   "source": [
    "## Read data\n",
    "Reading data and assining to a variable for folowwing manupulating."
   ]
  },
  {
   "cell_type": "code",
   "execution_count": null,
   "metadata": {},
   "outputs": [],
   "source": [
    "import pandas as pd\n",
    "import os\n",
    "dataset_file = os.path.join(path, \"survey.csv\")\n",
    "df = pd.read_csv(dataset_file)\n",
    "print(df.head())"
   ]
  },
  {
   "cell_type": "markdown",
   "metadata": {},
   "source": [
    "## Clean data\n",
    "\n",
    "**Step 1: Dropping unnecessary columns**\n",
    "\n",
    "NO need columns such as Timestamp, state and comments. \n",
    "\n",
    "**Reasons:**\n",
    "- Timestamp doesn't impact on the result. \n",
    "- State column has a lot of passes (is not a critical information for analysis).\n",
    "- Comments column is an optional field and has no matter for analysis."
   ]
  },
  {
   "cell_type": "code",
   "execution_count": null,
   "metadata": {},
   "outputs": [],
   "source": [
    "cleaned_df = df.drop(['Timestamp', 'comments', 'state'], axis=1)\n",
    "print(cleaned_df.head())"
   ]
  },
  {
   "cell_type": "markdown",
   "metadata": {},
   "source": [
    "**Step 2: Processing Key Values**\n",
    "\n",
    "Some rows need to be normalized snd processed.\n",
    "\n",
    "**Categorical Data**\n",
    "| Column | Issue | Solution|\n",
    "|----------|---------|----------|\n",
    "| \"Gender\" | Various: \"m, \"F\", \"Male\", \"female\", etc. | Bring to standart: \"Male\", \"Female, \"Other\". |\n",
    "| \"self_employed\" | Lots of passes  | Filled with \"No\" and vring to binary. |\n",
    "| \"family_history\"  |String values.  | Bring to binary. |\n",
    "| \"treatment\"  | String values.  |  Bring to binary. |\n",
    "| \"tech_company\" | Includes \"No\" while focus on TECH industry | Remove rows where valus is \"No\" |\n",
    "\n"
   ]
  },
  {
   "cell_type": "code",
   "execution_count": null,
   "metadata": {},
   "outputs": [],
   "source": [
    "# bring all values in \"Gender\" column to lower case\n",
    "cleaned_df[\"Gender\"] = cleaned_df[\"Gender\"].str.lower()\n",
    "# all unique values for \"Gender\" column\n",
    "print(cleaned_df[\"Gender\"].unique())\n",
    "\n",
    "# function to bring existed values to standart\n",
    "def clean_gender(gender):\n",
    "    if gender in [\"male\", \"m\", \"man\", \"mail\", \"male-ish\", \"maile\", \"mal\"]:\n",
    "        return \"Male\"\n",
    "    elif gender in [\"female\", \"f\", \"woman\", \"fm\", \"femake\"]:\n",
    "        return \"Female\"\n",
    "    else:\n",
    "        return \"Other\"\n",
    "\n",
    "# Apply function to \"Gender\" column\n",
    "cleaned_df[\"Gender\"] = cleaned_df[\"Gender\"].apply(clean_gender)\n",
    "\n",
    "# Filled \"No\" instead of NaN values in \"self_employed\" column.\n",
    "cleaned_df[\"self_employed\"] = cleaned_df[\"self_employed\"].fillna(\"No\")\n",
    "\n",
    "# Replace \"yes\"/\"no\" string values to binary in columns:\n",
    "cleaned_df['self_employed'] = cleaned_df['self_employed'].replace({\"Yes\": 1, \"No\": 0})\n",
    "cleaned_df['family_history'] = cleaned_df['family_history'].replace({\"Yes\": 1, \"No\": 0})\n",
    "cleaned_df['treatment'] = cleaned_df['treatment'].replace({\"Yes\": 1, \"No\": 0})\n",
    "\n",
    "# Remove rows with non-tech company\n",
    "cleaned_df = cleaned_df[cleaned_df[\"tech_company\"] == \"Yes\"]\n",
    "print(cleaned_df)\n",
    "\n"
   ]
  },
  {
   "cell_type": "markdown",
   "metadata": {},
   "source": [
    "**Numerical Data**\n",
    "| Column | Issue | Solution|\n",
    "|----------|---------|----------|\n",
    "| \"Age\" | Values might be wrong(like <18 or >70) | Delete invalid values. |\n",
    "| \"no_employees\" | Lots of different values | Group them into: \"Large\", \"Medium\", \"Small\"  |\n",
    "\n"
   ]
  },
  {
   "cell_type": "code",
   "execution_count": null,
   "metadata": {},
   "outputs": [],
   "source": [
    "# Check \"Age\" column to valid values\n",
    "cleaned_df[(cleaned_df[\"Age\"] >= 18) & (cleaned_df[\"Age\"] <= 70)]\n",
    "\n",
    "# Group \"no-employees\" values\n",
    "print(cleaned_df[\"no_employees\"].unique())\n",
    "employee_groups = {\n",
    "    \"1-5\": \"Small\",\n",
    "    \"6-25\": \"Small\",\n",
    "    \"26-100\": \"Medium\",\n",
    "    \"100-500\": \"Medium\",\n",
    "    \"500-1000\": \"Large\",\n",
    "    \"More than 1000\": \"Large\"\n",
    "}\n",
    "# Create new column with the result\n",
    "cleaned_df[\"company_size\"] = cleaned_df[\"no_employees\"].map(employee_groups)\n",
    "print(cleaned_df.head())"
   ]
  }
 ],
 "metadata": {
  "kernelspec": {
   "display_name": "myenv",
   "language": "python",
   "name": "python3"
  },
  "language_info": {
   "codemirror_mode": {
    "name": "ipython",
    "version": 3
   },
   "file_extension": ".py",
   "mimetype": "text/x-python",
   "name": "python",
   "nbconvert_exporter": "python",
   "pygments_lexer": "ipython3",
   "version": "3.13.1"
  }
 },
 "nbformat": 4,
 "nbformat_minor": 2
}
